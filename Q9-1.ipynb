{
 "cells": [
  {
   "cell_type": "markdown",
   "metadata": {},
   "source": [
    "# CNN做mnist手寫數字辨識"
   ]
  },
  {
   "cell_type": "markdown",
   "metadata": {},
   "source": [
    "## Import"
   ]
  },
  {
   "cell_type": "code",
   "execution_count": 1,
   "metadata": {},
   "outputs": [
    {
     "name": "stderr",
     "output_type": "stream",
     "text": [
      "Using TensorFlow backend.\n"
     ]
    }
   ],
   "source": [
    "%matplotlib inline\n",
    "\n",
    "import matplotlib.pyplot as plt\n",
    "import numpy as np\n",
    "import pandas as pd\n",
    "from keras.models import Sequential\n",
    "from keras.datasets import mnist\n",
    "from keras.layers import Dense, Activation, add, Conv2D, MaxPooling2D, Flatten\n",
    "from keras.optimizers import SGD, Adadelta, adam\n",
    "from keras.utils import np_utils\n",
    "from ipywidgets import interact_manual\n",
    "from keras.callbacks import EarlyStopping"
   ]
  },
  {
   "cell_type": "markdown",
   "metadata": {},
   "source": [
    "## 讀入mnist數據"
   ]
  },
  {
   "cell_type": "code",
   "execution_count": 2,
   "metadata": {},
   "outputs": [
    {
     "name": "stdout",
     "output_type": "stream",
     "text": [
      "(60000, 28, 28)\n",
      "(60000, 28, 28, 1)\n"
     ]
    }
   ],
   "source": [
    "# read mnist dataset\n",
    "(x_train, y_train), (x_test, y_test) = mnist.load_data()\n",
    "\n",
    "print(x_train.shape)\n",
    "\n",
    "x_train = x_train.reshape(x_train.shape[0], x_train.shape[1],\n",
    "                          x_train.shape[2], 1)\n",
    "x_test = x_test.reshape(x_test.shape[0], x_test.shape[1],\n",
    "                        x_test.shape[2], 1)\n",
    "\n",
    "print(x_train.shape)\n",
    "\n",
    "# transform string type into int type [0,9]\n",
    "y_train = np_utils.to_categorical(y_train, 10)\n",
    "y_test = np_utils.to_categorical(y_test, 10)"
   ]
  },
  {
   "cell_type": "markdown",
   "metadata": {},
   "source": [
    "## 架設CNN"
   ]
  },
  {
   "cell_type": "code",
   "execution_count": 3,
   "metadata": {
    "scrolled": true
   },
   "outputs": [
    {
     "name": "stdout",
     "output_type": "stream",
     "text": [
      "WARNING:tensorflow:From /home/yizzy/.local/lib/python3.6/site-packages/tensorflow/python/framework/op_def_library.py:263: colocate_with (from tensorflow.python.framework.ops) is deprecated and will be removed in a future version.\n",
      "Instructions for updating:\n",
      "Colocations handled automatically by placer.\n",
      "_________________________________________________________________\n",
      "Layer (type)                 Output Shape              Param #   \n",
      "=================================================================\n",
      "conv2d_1 (Conv2D)            (None, 28, 28, 32)        1600      \n",
      "_________________________________________________________________\n",
      "max_pooling2d_1 (MaxPooling2 (None, 14, 14, 32)        0         \n",
      "_________________________________________________________________\n",
      "conv2d_2 (Conv2D)            (None, 14, 14, 16)        12816     \n",
      "_________________________________________________________________\n",
      "max_pooling2d_2 (MaxPooling2 (None, 7, 7, 16)          0         \n",
      "_________________________________________________________________\n",
      "conv2d_3 (Conv2D)            (None, 7, 7, 8)           1160      \n",
      "_________________________________________________________________\n",
      "max_pooling2d_3 (MaxPooling2 (None, 3, 3, 8)           0         \n",
      "_________________________________________________________________\n",
      "flatten_1 (Flatten)          (None, 72)                0         \n",
      "_________________________________________________________________\n",
      "dense_1 (Dense)              (None, 100)               7300      \n",
      "_________________________________________________________________\n",
      "dense_2 (Dense)              (None, 50)                5050      \n",
      "_________________________________________________________________\n",
      "dense_3 (Dense)              (None, 20)                1020      \n",
      "_________________________________________________________________\n",
      "dense_4 (Dense)              (None, 10)                210       \n",
      "=================================================================\n",
      "Total params: 29,156\n",
      "Trainable params: 29,156\n",
      "Non-trainable params: 0\n",
      "_________________________________________________________________\n"
     ]
    }
   ],
   "source": [
    "model = Sequential()\n",
    "\n",
    "model.add(\n",
    "    Conv2D(\n",
    "        input_shape=(28,28,1),\n",
    "        data_format = 'channels_last',\n",
    "        filters = 32,\n",
    "        kernel_size = (7,7), \n",
    "        strides = 1,\n",
    "        padding = 'same',\n",
    "        activation = 'relu',\n",
    "        )\n",
    "    )\n",
    "\n",
    "model.add(\n",
    "    MaxPooling2D(\n",
    "        pool_size = 2,\n",
    "        strides = 2,\n",
    "        padding = 'valid',\n",
    "        data_format = 'channels_last'\n",
    "        )\n",
    "    )\n",
    "\n",
    "model.add(\n",
    "    Conv2D(\n",
    "        data_format = 'channels_last',\n",
    "        filters = 16,\n",
    "        kernel_size = (5,5), \n",
    "        strides = 1,\n",
    "        padding = 'same',\n",
    "        activation = 'relu',\n",
    "        )\n",
    "    )\n",
    "\n",
    "model.add(\n",
    "    MaxPooling2D(\n",
    "        pool_size = 2,\n",
    "        strides = 2,\n",
    "        padding = 'valid',\n",
    "        data_format = 'channels_last'\n",
    "        )\n",
    "    )\n",
    "\n",
    "model.add(\n",
    "    Conv2D(\n",
    "        data_format = 'channels_last',\n",
    "        filters = 8,\n",
    "        kernel_size = (3,3), \n",
    "        strides = 1,\n",
    "        padding = 'same',\n",
    "        activation = 'relu',\n",
    "        )\n",
    "    )\n",
    "\n",
    "model.add(\n",
    "    MaxPooling2D(\n",
    "        pool_size = 2,\n",
    "        strides = 2,\n",
    "        padding = 'valid',\n",
    "        data_format = 'channels_last'\n",
    "        )\n",
    "    )\n",
    "\n",
    "\n",
    "model.add(\n",
    "    Flatten(\n",
    "        data_format = 'channels_last'\n",
    "        )\n",
    "    )\n",
    "\n",
    "model.add(\n",
    "    Dense(100, activation='relu')\n",
    "    )\n",
    "\n",
    "model.add(\n",
    "    Dense(50, activation = 'relu')\n",
    "    )\n",
    "\n",
    "model.add(\n",
    "    Dense(20, activation = 'relu')\n",
    "    )\n",
    "\n",
    "model.add(\n",
    "    Dense(10, activation = 'softmax')\n",
    "    )\n",
    "\n",
    "model.summary()\n",
    "\n",
    "\n",
    "model.compile(loss = 'categorical_crossentropy',\n",
    "              optimizer = adam(),\n",
    "              metrics = ['acc']\n",
    "              )\n",
    "        "
   ]
  },
  {
   "cell_type": "code",
   "execution_count": 4,
   "metadata": {},
   "outputs": [
    {
     "name": "stdout",
     "output_type": "stream",
     "text": [
      "WARNING:tensorflow:From /home/yizzy/.local/lib/python3.6/site-packages/tensorflow/python/ops/math_ops.py:3066: to_int32 (from tensorflow.python.ops.math_ops) is deprecated and will be removed in a future version.\n",
      "Instructions for updating:\n",
      "Use tf.cast instead.\n",
      "Train on 60000 samples, validate on 10000 samples\n",
      "Epoch 1/500\n",
      "60000/60000 [==============================] - 98s 2ms/step - loss: 0.5174 - acc: 0.8389 - val_loss: 0.1549 - val_acc: 0.9556\n",
      "Epoch 2/500\n",
      "60000/60000 [==============================] - 91s 2ms/step - loss: 0.1232 - acc: 0.9626 - val_loss: 0.0823 - val_acc: 0.9730\n",
      "Epoch 3/500\n",
      "60000/60000 [==============================] - 91s 2ms/step - loss: 0.0812 - acc: 0.9755 - val_loss: 0.0651 - val_acc: 0.9801\n",
      "Epoch 4/500\n",
      "60000/60000 [==============================] - 90s 2ms/step - loss: 0.0617 - acc: 0.9814 - val_loss: 0.0599 - val_acc: 0.9796\n",
      "Epoch 5/500\n",
      "60000/60000 [==============================] - 91s 2ms/step - loss: 0.0524 - acc: 0.9847 - val_loss: 0.0577 - val_acc: 0.9823\n",
      "Epoch 6/500\n",
      "60000/60000 [==============================] - 90s 2ms/step - loss: 0.0501 - acc: 0.9845 - val_loss: 0.0730 - val_acc: 0.9766\n",
      "Epoch 7/500\n",
      "60000/60000 [==============================] - 105s 2ms/step - loss: 0.0438 - acc: 0.9863 - val_loss: 0.0498 - val_acc: 0.9845\n",
      "Epoch 8/500\n",
      "60000/60000 [==============================] - 115s 2ms/step - loss: 0.0383 - acc: 0.9881 - val_loss: 0.0447 - val_acc: 0.9855\n",
      "Epoch 9/500\n",
      "60000/60000 [==============================] - 123s 2ms/step - loss: 0.0350 - acc: 0.9889 - val_loss: 0.0465 - val_acc: 0.9853\n",
      "Epoch 10/500\n",
      "60000/60000 [==============================] - 115s 2ms/step - loss: 0.0323 - acc: 0.9899 - val_loss: 0.0432 - val_acc: 0.9854\n",
      "Epoch 11/500\n",
      "60000/60000 [==============================] - 118s 2ms/step - loss: 0.0292 - acc: 0.9904 - val_loss: 0.0523 - val_acc: 0.9850\n",
      "Epoch 12/500\n",
      "60000/60000 [==============================] - 114s 2ms/step - loss: 0.0311 - acc: 0.9899 - val_loss: 0.0488 - val_acc: 0.9844\n",
      "Epoch 13/500\n",
      "60000/60000 [==============================] - 114s 2ms/step - loss: 0.0231 - acc: 0.9925 - val_loss: 0.0514 - val_acc: 0.9853\n",
      "Epoch 00013: early stopping\n"
     ]
    }
   ],
   "source": [
    "early_stopping = EarlyStopping(monitor = 'val_acc', patience = 5,\n",
    "                               verbose = 2)\n",
    "\n",
    "model_epo50 = model.fit(x_train, y_train, batch_size = 256,\n",
    "                        epochs = 500, validation_data = (x_test, y_test),\n",
    "                        callbacks = [early_stopping]\n",
    "                        )"
   ]
  },
  {
   "cell_type": "markdown",
   "metadata": {},
   "source": [
    "## 畫出training data的historical accuracy"
   ]
  },
  {
   "cell_type": "code",
   "execution_count": 5,
   "metadata": {},
   "outputs": [
    {
     "data": {
      "text/plain": [
       "Text(0, 0.5, 'accuracy')"
      ]
     },
     "execution_count": 5,
     "metadata": {},
     "output_type": "execute_result"
    },
    {
     "data": {
      "image/png": "[encoded data removed]",
      "text/plain": [
       "<Figure size 432x288 with 1 Axes>"
      ]
     },
     "metadata": {},
     "output_type": "display_data"
    }
   ],
   "source": [
    "plt.plot(model_epo50.history['acc'])\n",
    "plt.title('model training accuracy')\n",
    "plt.xlabel('epoch')\n",
    "plt.ylabel('accuracy')"
   ]
  },
  {
   "cell_type": "markdown",
   "metadata": {},
   "source": [
    "## 計算testing data準確率\n",
    "|accuracy|\n",
    "---|---|---|\n",
    "| training data | testing data |\n",
    "---|---|---|\n",
    "accuracy | 99.37% | 98.53% |\n",
    "loss | 0.0195 | 0.0514 |"
   ]
  },
  {
   "cell_type": "code",
   "execution_count": 6,
   "metadata": {},
   "outputs": [
    {
     "name": "stdout",
     "output_type": "stream",
     "text": [
      "60000/60000 [==============================] - 35s 582us/step\n",
      "10000/10000 [==============================] - 6s 582us/step\n",
      "train data loss:  0.019507681948978766\n",
      "training data accuracy:  0.9937166666348776\n",
      "testing data loss:  0.05142526197191328\n",
      "testing data accuracy:  0.9853\n"
     ]
    }
   ],
   "source": [
    "train_score = model.evaluate(x_train, y_train, batch_size=128)\n",
    "test_score = model.evaluate(x_test, y_test, batch_size=128)\n",
    "print('train data loss: ',train_score[0])\n",
    "print('training data accuracy: ',train_score[1])\n",
    "print('testing data loss: ',test_score[0])\n",
    "print('testing data accuracy: ',test_score[1])"
   ]
  },
  {
   "cell_type": "code",
   "execution_count": null,
   "metadata": {},
   "outputs": [],
   "source": []
  }
 ],
 "metadata": {
  "kernelspec": {
   "display_name": "Python 3",
   "language": "python",
   "name": "python3"
  },
  "language_info": {
   "codemirror_mode": {
    "name": "ipython",
    "version": 3
   },
   "file_extension": ".py",
   "mimetype": "text/x-python",
   "name": "python",
   "nbconvert_exporter": "python",
   "pygments_lexer": "ipython3",
   "version": "3.6.7"
  }
 },
 "nbformat": 4,
 "nbformat_minor": 2
}
