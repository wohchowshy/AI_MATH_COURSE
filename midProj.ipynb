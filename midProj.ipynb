{
 "cells": [
  {
   "cell_type": "markdown",
   "metadata": {},
   "source": [
    "---\n",
    "## **主題: 記錄每天攝取的食物，統計當天吃的熱量及營養素**"
   ]
  },
  {
   "cell_type": "markdown",
   "metadata": {},
   "source": [
    "---\n",
    "## Import toolkit"
   ]
  },
  {
   "cell_type": "code",
   "execution_count": 1,
   "metadata": {},
   "outputs": [],
   "source": [
    "%matplotlib inline\n",
    "import matplotlib.pyplot as plt\n",
    "import numpy as np\n",
    "import pandas as pd\n",
    "from ipywidgets import interact_manual  #互動套件\n",
    "import ipywidgets as widgets  #interact控制元件\n",
    "import requests\n",
    "from bs4 import BeautifulSoup as bs\n",
    "from lxml import html\n",
    "from IPython import display\n",
    "from matplotlib.font_manager import FontProperties\n",
    "myf = FontProperties(fname='C:\\Windows\\Fonts\\msjh.ttc')\n",
    "plt.rcParams['font.sans-serif']=['SimHei']"
   ]
  },
  {
   "cell_type": "markdown",
   "metadata": {},
   "source": [
    "---\n",
    "## Function  definition 1 -- search4nutrient()\n",
    "- 此函式用來找給定食物的熱量及營養素\n",
    "- Parameter為欲查詢熱量的'食物名稱'\n"
   ]
  },
  {
   "cell_type": "code",
   "execution_count": 2,
   "metadata": {},
   "outputs": [
    {
     "data": {
      "text/html": [
       "<div>\n",
       "<style scoped>\n",
       "    .dataframe tbody tr th:only-of-type {\n",
       "        vertical-align: middle;\n",
       "    }\n",
       "\n",
       "    .dataframe tbody tr th {\n",
       "        vertical-align: top;\n",
       "    }\n",
       "\n",
       "    .dataframe thead th {\n",
       "        text-align: right;\n",
       "    }\n",
       "</style>\n",
       "<table border=\"1\" class=\"dataframe\">\n",
       "  <thead>\n",
       "    <tr style=\"text-align: right;\">\n",
       "      <th></th>\n",
       "      <th>數值</th>\n",
       "      <th>單位</th>\n",
       "    </tr>\n",
       "  </thead>\n",
       "  <tbody>\n",
       "    <tr>\n",
       "      <th>能量</th>\n",
       "      <td>130</td>\n",
       "      <td>千卡</td>\n",
       "    </tr>\n",
       "    <tr>\n",
       "      <th>蛋白質</th>\n",
       "      <td>2.38</td>\n",
       "      <td>克</td>\n",
       "    </tr>\n",
       "    <tr>\n",
       "      <th>碳水化合物</th>\n",
       "      <td>28.59</td>\n",
       "      <td>克</td>\n",
       "    </tr>\n",
       "    <tr>\n",
       "      <th>脂肪</th>\n",
       "      <td>0.21</td>\n",
       "      <td>克</td>\n",
       "    </tr>\n",
       "    <tr>\n",
       "      <th>膳食纖維</th>\n",
       "      <td>0</td>\n",
       "      <td>克</td>\n",
       "    </tr>\n",
       "    <tr>\n",
       "      <th>糖</th>\n",
       "      <td>0</td>\n",
       "      <td>克</td>\n",
       "    </tr>\n",
       "    <tr>\n",
       "      <th>飽和脂肪</th>\n",
       "      <td>0.057</td>\n",
       "      <td>克</td>\n",
       "    </tr>\n",
       "    <tr>\n",
       "      <th>反式脂肪</th>\n",
       "      <td>0</td>\n",
       "      <td>克</td>\n",
       "    </tr>\n",
       "    <tr>\n",
       "      <th>膽固醇</th>\n",
       "      <td>0</td>\n",
       "      <td>毫克</td>\n",
       "    </tr>\n",
       "    <tr>\n",
       "      <th>鈣</th>\n",
       "      <td>3</td>\n",
       "      <td>毫克</td>\n",
       "    </tr>\n",
       "    <tr>\n",
       "      <th>銅</th>\n",
       "      <td>0.038</td>\n",
       "      <td>毫克</td>\n",
       "    </tr>\n",
       "    <tr>\n",
       "      <th>鐵</th>\n",
       "      <td>0.20</td>\n",
       "      <td>毫克</td>\n",
       "    </tr>\n",
       "    <tr>\n",
       "      <th>鎂</th>\n",
       "      <td>13</td>\n",
       "      <td>毫克</td>\n",
       "    </tr>\n",
       "    <tr>\n",
       "      <th>錳</th>\n",
       "      <td>0.377</td>\n",
       "      <td>毫克</td>\n",
       "    </tr>\n",
       "    <tr>\n",
       "      <th>磷</th>\n",
       "      <td>37</td>\n",
       "      <td>毫克</td>\n",
       "    </tr>\n",
       "    <tr>\n",
       "      <th>鉀</th>\n",
       "      <td>29</td>\n",
       "      <td>毫克</td>\n",
       "    </tr>\n",
       "    <tr>\n",
       "      <th>鈉</th>\n",
       "      <td>0</td>\n",
       "      <td>毫克</td>\n",
       "    </tr>\n",
       "    <tr>\n",
       "      <th>鋅</th>\n",
       "      <td>0.42</td>\n",
       "      <td>毫克</td>\n",
       "    </tr>\n",
       "    <tr>\n",
       "      <th>維他命C</th>\n",
       "      <td>0.0</td>\n",
       "      <td>毫克</td>\n",
       "    </tr>\n",
       "  </tbody>\n",
       "</table>\n",
       "</div>"
      ],
      "text/plain": [
       "          數值  單位\n",
       "能量       130  千卡\n",
       "蛋白質     2.38   克\n",
       "碳水化合物  28.59   克\n",
       "脂肪      0.21   克\n",
       "膳食纖維       0   克\n",
       "糖          0   克\n",
       "飽和脂肪   0.057   克\n",
       "反式脂肪       0   克\n",
       "膽固醇        0  毫克\n",
       "鈣          3  毫克\n",
       "銅      0.038  毫克\n",
       "鐵       0.20  毫克\n",
       "鎂         13  毫克\n",
       "錳      0.377  毫克\n",
       "磷         37  毫克\n",
       "鉀         29  毫克\n",
       "鈉          0  毫克\n",
       "鋅       0.42  毫克\n",
       "維他命C     0.0  毫克"
      ]
     },
     "execution_count": 2,
     "metadata": {},
     "output_type": "execute_result"
    }
   ],
   "source": [
    "def search4nutrient(name='白飯'):\n",
    "    # 設定營養資料查詢網頁的rul\n",
    "    url = 'https://www.cfs.gov.hk/tc_chi/nutrient/search3.php'\n",
    "    # 送post必需的一些資料\n",
    "    payload = {\n",
    "        \"keyword\":name,\n",
    "        \"keylang\": \"C\",\n",
    "        \"inShortMode\": \"0\",\n",
    "        \"searchcriteria\": \"and\",\n",
    "        \"keyword2\": \"\"\n",
    "    }\n",
    "    h = requests.post(url, data=payload)  # 開始送post給網站\n",
    "    soup = bs(h.text, 'html.parser')  # beautifulsoup解析成html形式\n",
    "    a = soup.select('.colorTable1 > tr > td > ul > li > a')  # 找到對應食物的href,將使用參數進入食物營養素查詢\n",
    "    # 取第一個結果:\n",
    "    if(len(a) > 0):\n",
    "        a = a[0].attrs['href'].replace('javascript:tosubmit (','')\n",
    "        a = a.replace(');','').replace(\"'\",'').replace(' ','')\n",
    "        a = a.split(',')\n",
    "\n",
    "    # 設定該食物熱量的網址及參數(在網站F12裡找)\n",
    "    url = 'https://www.cfs.gov.hk/tc_chi/nutrient/fc-myreport.php'\n",
    "    payload = {\n",
    "        \"fg_id\": a[0],\n",
    "        \"fsg_id\": a[1],\n",
    "        \"food_id\": a[2],\n",
    "        \"inShortMode\": \"\"\n",
    "    }\n",
    "    h = requests.post(url, data=payload)  # 開始送post給網站\n",
    "    soup = bs(h.text, 'html.parser')  # beautifulsoup解析成html形式\n",
    "    tb = soup.find_all('table')[1]  # 找到第2個table(紀錄熱量的table)\n",
    "    pf = pd.read_html(str(tb))[0]  # 用read_html直接把該table的html格式轉成dataFrame\n",
    "    # 以下幾步為處理dataFrame的過程，不多贅述\n",
    "    pf = pf[(pf['營養']!='主要成分')]\n",
    "    pf = pf[(pf['營養']!='脂質')]\n",
    "    pf = pf[(pf['營養']!='礦物質和維他命')]\n",
    "    pf['數值'].fillna(value=0, inplace=True)\n",
    "    pf.reset_index(inplace=True, drop=True)\n",
    "    for i in range(len(pf['營養'])):\n",
    "        pf['營養'][i] = pf['營養'][i].replace('*','').replace(' ','')\n",
    "    pf.index = [pf['營養'][i] for i in range(len(pf['營養']))]\n",
    "    pf.drop('營養',axis=1,inplace=True)\n",
    "    pf = pf[['數值','單位']]\n",
    "    pf;\n",
    "    return pf\n",
    "\n",
    "search4nutrient()"
   ]
  },
  {
   "cell_type": "markdown",
   "metadata": {},
   "source": [
    "---\n",
    "## Function definition 2\n",
    "- **RecordEat(Date, item, gram, note)**\n",
    "    - 紀錄吃的東西、重量..."
   ]
  },
  {
   "cell_type": "code",
   "execution_count": 3,
   "metadata": {},
   "outputs": [],
   "source": [
    "# Date 是屬於datetime.date object, 用Date.strftime('%Y(或%m,%d)')來得到年月日\n",
    "def RecordEat(Date, item, gram, note):\n",
    "    # 如果輸入不完整，則不紀錄這筆資料\n",
    "    if(len(item)==0 or len(gram)==0 or (Date==None)):\n",
    "        print(\"請輸入完整內容\")\n",
    "        return\n",
    "    data = [[Date, item, gram, note]]  # 建list，這裡輸出依序是'日期', '品項', '金額', '備註'\n",
    "    df = pd.DataFrame(data, columns = ['日期', '食物名稱', '重量(公克)', '備註'])  # 存csv的標準格式:'DataFrame'\n",
    "    # 如果csv已經存在，則直接寫資料，不寫header\n",
    "    # 如果不存在，則把header也一起寫進csv檔\n",
    "    try:\n",
    "        with open('eatlist.csv','r') as f:\n",
    "            True\n",
    "        df.to_csv('eatlist.csv',mode='a', header=False, index=False)\n",
    "    except:\n",
    "        df.to_csv('eatlist.csv',mode='w', header=True, index=False)\n",
    "    print(' '*np.random.randint(10)+'紀錄成功！')\n",
    "    return"
   ]
  },
  {
   "cell_type": "markdown",
   "metadata": {},
   "source": [
    "---\n",
    "## Function definition 3\n",
    "- **CalculEat(Date)**\n",
    "    - 秀出特定日期當天攝取的食物熱量、營養素等等"
   ]
  },
  {
   "cell_type": "code",
   "execution_count": 4,
   "metadata": {},
   "outputs": [],
   "source": [
    "def CalculEat(Date):\n",
    "    TotalCalo = {'能量':[0,'千卡'], '蛋白質':[0,'克'], '碳水化合物':[0,'克'], '脂肪':[0,'克'], \n",
    "                 '膳食纖維':[0,'克'], '糖':[0,'克'], '飽和脂肪':[0,'克'], '反式脂肪':[0,'克'], \n",
    "                 '膽固醇':[0,'毫克'], '鈣':[0,'毫克'], '銅':[0,'毫克'], '鐵':[0,'毫克'], \n",
    "                 '鎂':[0,'毫克'], '錳':[0,'毫克'], '磷':[0,'毫克'], '鉀':[0,'毫克'], \n",
    "                 '鈉':[0,'毫克'], '鋅':[0,'毫克'], '維他命C':[0,'毫克']}\n",
    "    # try open csv\n",
    "    try:\n",
    "        df = pd.read_csv('eatlist.csv')\n",
    "    except:\n",
    "        print('目前還沒有任何紀錄可查詢，請先至少記錄一筆資料後再查詢。')\n",
    "        return\n",
    "    # 找出日期一樣的\n",
    "    df2 = df[df['日期']==str(Date)]\n",
    "    if(len(df2)==0):\n",
    "        print(Date.strftime('%Y') + '/' + Date.strftime('%m') + '/' + Date.strftime('%d') + \"沒有紀錄\");\n",
    "        return\n",
    "    df2.reset_index(inplace=True, drop=True)\n",
    "    # 統計當天總熱量及養分\n",
    "    for i in range(len(df2['食物名稱'])):\n",
    "        food = str(df2['食物名稱'][i])\n",
    "        calo = search4nutrient(food)\n",
    "        for key, value in TotalCalo.items():\n",
    "            TotalCalo[key][0] += float(calo['數值'][key])*(float(df2[df2['食物名稱']==food]['重量(公克)'])/100.0)\n",
    "    todf = pd.DataFrame.from_dict(TotalCalo,orient='index',columns=['數值','單位'])\n",
    "    todf.sort_values(by='單位',inplace=True)\n",
    "    # 用plt畫表格\n",
    "    plt.figure(1);\n",
    "    fig, ax = plt.subplots();\n",
    "    # 隱藏坐標軸\n",
    "    ax.xaxis.set_visible(False);\n",
    "    ax.yaxis.set_visible(False);\n",
    "    ax.axis('off');\n",
    "    ax.axis('tight');  # 設置為緊密貼合\n",
    "    ax.table(cellText=[[round(v[0],2),v[1]] for _,v in TotalCalo.items()], colLabels=todf.columns, rowLabels = [k for k,_ in TotalCalo.items()], loc='center');\n",
    "    fig.tight_layout();\n",
    "\n",
    "    # 統計三大營養素圓餅圖\n",
    "    col = ['醣類','脂質','蛋白質']\n",
    "    val = [(TotalCalo['糖'][0]+TotalCalo['碳水化合物'][0])*4.0, \n",
    "           (TotalCalo['脂肪'][0]+TotalCalo['飽和脂肪'][0]+TotalCalo['反式脂肪'][0])*9.0,\n",
    "          TotalCalo['蛋白質'][0]*4.0]\n",
    "    # 畫圓餅圖\n",
    "    plt.figure(2);\n",
    "    fig, ax = plt.subplots();\n",
    "    ax.pie(val, labels = col, autopct='%1.1f%%',shadow=True, startangle=90);\n",
    "    plt.title('三大營養素攝取比例');\n",
    "    fig.tight_layout();"
   ]
  },
  {
   "cell_type": "markdown",
   "metadata": {},
   "source": [
    "---\n",
    "## 建構interact元件\n",
    "- 根據RecordEat()建一個互動式表單\n",
    "- 根據CalculEar()建一個日期選單，讓使用者選擇要查看哪一天"
   ]
  },
  {
   "cell_type": "code",
   "execution_count": 5,
   "metadata": {},
   "outputs": [
    {
     "name": "stdout",
     "output_type": "stream",
     "text": [
      "                每日食物攝取紀錄表\n"
     ]
    },
    {
     "data": {
      "application/vnd.jupyter.widget-view+json": {
       "model_id": "3da88c3746094c1dbdd9fc20667d77fb",
       "version_major": 2,
       "version_minor": 0
      },
      "text/plain": [
       "interactive(children=(DatePicker(value=None, description='日期'), Text(value='', description='食物名稱', placeholder…"
      ]
     },
     "metadata": {},
     "output_type": "display_data"
    },
    {
     "name": "stdout",
     "output_type": "stream",
     "text": [
      "\n",
      "\n",
      "\n",
      "                查詢當天攝取熱量\n"
     ]
    },
    {
     "data": {
      "application/vnd.jupyter.widget-view+json": {
       "model_id": "64c4d96bb6f44371adb28bd2a94474d5",
       "version_major": 2,
       "version_minor": 0
      },
      "text/plain": [
       "interactive(children=(DatePicker(value=None, description='日期'), Button(description='Run Interact', style=Butto…"
      ]
     },
     "metadata": {},
     "output_type": "display_data"
    }
   ],
   "source": [
    "print(' '*16+'每日食物攝取紀錄表')\n",
    "interact_manual(\n",
    "    RecordEat,\n",
    "    Date=widgets.DatePicker(description='日期'),  # widget list DataPicker: 顯示可選擇日期的輸入框\n",
    "    item=widgets.Text(description='食物名稱',disabled=False,  #widget list Text: 輸入文字\n",
    "        placeholder='ex:白飯、油麵...'), \n",
    "    gram=widgets.Text(description='重量(公克)',disabled=False,\n",
    "        placeholder='ex:100'), \n",
    "    note=widgets.Textarea(description='備註', disabled=False,  #widget list TextArea: 輸入多行文字\n",
    "        placeholder='ex:九折商品...'),\n",
    ");\n",
    "\n",
    "\n",
    "print('\\n'*3+' '*16+'查詢當天攝取熱量')\n",
    "interact_manual(\n",
    "    CalculEat,\n",
    "    Date = widgets.DatePicker(description='日期')\n",
    ");"
   ]
  },
  {
   "cell_type": "code",
   "execution_count": null,
   "metadata": {},
   "outputs": [],
   "source": []
  }
 ],
 "metadata": {
  "kernelspec": {
   "display_name": "Python 3",
   "language": "python",
   "name": "python3"
  },
  "language_info": {
   "codemirror_mode": {
    "name": "ipython",
    "version": 3
   },
   "file_extension": ".py",
   "mimetype": "text/x-python",
   "name": "python",
   "nbconvert_exporter": "python",
   "pygments_lexer": "ipython3",
   "version": "3.5.2"
  }
 },
 "nbformat": 4,
 "nbformat_minor": 2
}
