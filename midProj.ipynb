{
 "cells": [
  {
   "cell_type": "markdown",
   "metadata": {},
   "source": [
    "---\n",
    "## **主題: 記錄每天攝取的食物，統計當天吃的熱量及營養素**"
   ]
  },
  {
   "cell_type": "markdown",
   "metadata": {},
   "source": [
    "---\n",
    "## Import toolkit"
   ]
  },
  {
   "cell_type": "code",
   "execution_count": 1,
   "metadata": {},
   "outputs": [],
   "source": [
    "%matplotlib inline\n",
    "import matplotlib.pyplot as plt\n",
    "import numpy as np\n",
    "import pandas as pd\n",
    "from ipywidgets import interact_manual  #互動套件\n",
    "import ipywidgets as widgets  #interact控制元件\n",
    "import requests\n",
    "from bs4 import BeautifulSoup as bs\n",
    "from lxml import html\n",
    "from IPython import display\n",
    "from matplotlib.font_manager import FontProperties\n",
    "myf = FontProperties(fname='C:\\Windows\\Fonts\\msjh.ttc')\n",
    "plt.rcParams['font.sans-serif']=['SimHei']"
   ]
  },
  {
   "cell_type": "markdown",
   "metadata": {},
   "source": [
    "---\n",
    "## Function  definition 1 -- search4nutrient()\n",
    "- 此函式用來找給定食物的熱量及營養素\n",
    "- Parameter為欲查詢熱量的'食物名稱'\n"
   ]
  },
  {
   "cell_type": "code",
   "execution_count": 2,
   "metadata": {},
   "outputs": [
    {
     "data": {
      "text/html": [
       "<div>\n",
       "<style scoped>\n",
       "    .dataframe tbody tr th:only-of-type {\n",
       "        vertical-align: middle;\n",
       "    }\n",
       "\n",
       "    .dataframe tbody tr th {\n",
       "        vertical-align: top;\n",
       "    }\n",
       "\n",
       "    .dataframe thead th {\n",
       "        text-align: right;\n",
       "    }\n",
       "</style>\n",
       "<table border=\"1\" class=\"dataframe\">\n",
       "  <thead>\n",
       "    <tr style=\"text-align: right;\">\n",
       "      <th></th>\n",
       "      <th>數值</th>\n",
       "      <th>單位</th>\n",
       "    </tr>\n",
       "  </thead>\n",
       "  <tbody>\n",
       "    <tr>\n",
       "      <th>能量</th>\n",
       "      <td>130</td>\n",
       "      <td>千卡</td>\n",
       "    </tr>\n",
       "    <tr>\n",
       "      <th>蛋白質</th>\n",
       "      <td>2.38</td>\n",
       "      <td>克</td>\n",
       "    </tr>\n",
       "    <tr>\n",
       "      <th>碳水化合物</th>\n",
       "      <td>28.59</td>\n",
       "      <td>克</td>\n",
       "    </tr>\n",
       "    <tr>\n",
       "      <th>脂肪</th>\n",
       "      <td>0.21</td>\n",
       "      <td>克</td>\n",
       "    </tr>\n",
       "    <tr>\n",
       "      <th>膳食纖維</th>\n",
       "      <td>0</td>\n",
       "      <td>克</td>\n",
       "    </tr>\n",
       "    <tr>\n",
       "      <th>糖</th>\n",
       "      <td>0</td>\n",
       "      <td>克</td>\n",
       "    </tr>\n",
       "    <tr>\n",
       "      <th>飽和脂肪</th>\n",
       "      <td>0.057</td>\n",
       "      <td>克</td>\n",
       "    </tr>\n",
       "    <tr>\n",
       "      <th>反式脂肪</th>\n",
       "      <td>0</td>\n",
       "      <td>克</td>\n",
       "    </tr>\n",
       "    <tr>\n",
       "      <th>膽固醇</th>\n",
       "      <td>0</td>\n",
       "      <td>毫克</td>\n",
       "    </tr>\n",
       "    <tr>\n",
       "      <th>鈣</th>\n",
       "      <td>3</td>\n",
       "      <td>毫克</td>\n",
       "    </tr>\n",
       "    <tr>\n",
       "      <th>銅</th>\n",
       "      <td>0.038</td>\n",
       "      <td>毫克</td>\n",
       "    </tr>\n",
       "    <tr>\n",
       "      <th>鐵</th>\n",
       "      <td>0.20</td>\n",
       "      <td>毫克</td>\n",
       "    </tr>\n",
       "    <tr>\n",
       "      <th>鎂</th>\n",
       "      <td>13</td>\n",
       "      <td>毫克</td>\n",
       "    </tr>\n",
       "    <tr>\n",
       "      <th>錳</th>\n",
       "      <td>0.377</td>\n",
       "      <td>毫克</td>\n",
       "    </tr>\n",
       "    <tr>\n",
       "      <th>磷</th>\n",
       "      <td>37</td>\n",
       "      <td>毫克</td>\n",
       "    </tr>\n",
       "    <tr>\n",
       "      <th>鉀</th>\n",
       "      <td>29</td>\n",
       "      <td>毫克</td>\n",
       "    </tr>\n",
       "    <tr>\n",
       "      <th>鈉</th>\n",
       "      <td>0</td>\n",
       "      <td>毫克</td>\n",
       "    </tr>\n",
       "    <tr>\n",
       "      <th>鋅</th>\n",
       "      <td>0.42</td>\n",
       "      <td>毫克</td>\n",
       "    </tr>\n",
       "    <tr>\n",
       "      <th>維他命C</th>\n",
       "      <td>0.0</td>\n",
       "      <td>毫克</td>\n",
       "    </tr>\n",
       "  </tbody>\n",
       "</table>\n",
       "</div>"
      ],
      "text/plain": [
       "          數值  單位\n",
       "能量       130  千卡\n",
       "蛋白質     2.38   克\n",
       "碳水化合物  28.59   克\n",
       "脂肪      0.21   克\n",
       "膳食纖維       0   克\n",
       "糖          0   克\n",
       "飽和脂肪   0.057   克\n",
       "反式脂肪       0   克\n",
       "膽固醇        0  毫克\n",
       "鈣          3  毫克\n",
       "銅      0.038  毫克\n",
       "鐵       0.20  毫克\n",
       "鎂         13  毫克\n",
       "錳      0.377  毫克\n",
       "磷         37  毫克\n",
       "鉀         29  毫克\n",
       "鈉          0  毫克\n",
       "鋅       0.42  毫克\n",
       "維他命C     0.0  毫克"
      ]
     },
     "execution_count": 2,
     "metadata": {},
     "output_type": "execute_result"
    }
   ],
   "source": [
    "def search4nutrient(name='白飯'):\n",
    "    # 設定營養資料查詢網頁的rul\n",
    "    url = 'https://www.cfs.gov.hk/tc_chi/nutrient/search3.php'\n",
    "    # 送post必需的一些資料\n",
    "    payload = {\n",
    "        \"keyword\":name,\n",
    "        \"keylang\": \"C\",\n",
    "        \"inShortMode\": \"0\",\n",
    "        \"searchcriteria\": \"and\",\n",
    "        \"keyword2\": \"\"\n",
    "    }\n",
    "    h = requests.post(url, data=payload)  # 開始送post給網站\n",
    "    soup = bs(h.text, 'html.parser')  # beautifulsoup解析成html形式\n",
    "    a = soup.select('.colorTable1 > tr > td > ul > li > a')  # 找到對應食物的href,將使用參數進入食物營養素查詢\n",
    "    # 取第一個結果:\n",
    "    if(len(a) > 0):\n",
    "        a = a[0].attrs['href'].replace('javascript:tosubmit (','')\n",
    "        a = a.replace(');','').replace(\"'\",'').replace(' ','')\n",
    "        a = a.split(',')\n",
    "\n",
    "    # 設定該食物熱量的網址及參數(在網站F12裡找)\n",
    "    url = 'https://www.cfs.gov.hk/tc_chi/nutrient/fc-myreport.php'\n",
    "    payload = {\n",
    "        \"fg_id\": a[0],\n",
    "        \"fsg_id\": a[1],\n",
    "        \"food_id\": a[2],\n",
    "        \"inShortMode\": \"\"\n",
    "    }\n",
    "    h = requests.post(url, data=payload)  # 開始送post給網站\n",
    "    soup = bs(h.text, 'html.parser')  # beautifulsoup解析成html形式\n",
    "    tb = soup.find_all('table')[1]  # 找到第2個table(紀錄熱量的table)\n",
    "    pf = pd.read_html(str(tb))[0]  # 用read_html直接把該table的html格式轉成dataFrame\n",
    "    # 以下幾步為處理dataFrame的過程，不多贅述\n",
    "    pf = pf[(pf['營養']!='主要成分')]\n",
    "    pf = pf[(pf['營養']!='脂質')]\n",
    "    pf = pf[(pf['營養']!='礦物質和維他命')]\n",
    "    pf['數值'].fillna(value=0, inplace=True)\n",
    "    pf.reset_index(inplace=True, drop=True)\n",
    "    for i in range(len(pf['營養'])):\n",
    "        pf['營養'][i] = pf['營養'][i].replace('*','').replace(' ','')\n",
    "    pf.index = [pf['營養'][i] for i in range(len(pf['營養']))]\n",
    "    pf.drop('營養',axis=1,inplace=True)\n",
    "    pf = pf[['數值','單位']]\n",
    "    pf;\n",
    "    return pf\n",
    "\n",
    "search4nutrient()"
   ]
  },
  {
   "cell_type": "markdown",
   "metadata": {},
   "source": [
    "---\n",
    "## Function definition 2\n",
    "- **RecordEat(Date, item, gram, note)**\n",
    "    - 紀錄吃的東西、重量..."
   ]
  },
  {
   "cell_type": "code",
   "execution_count": 3,
   "metadata": {},
   "outputs": [],
   "source": [
    "# Date 是屬於datetime.date object, 用Date.strftime('%Y(或%m,%d)')來得到年月日\n",
    "def RecordEat(Date, item, gram, note):\n",
    "    # 如果輸入不完整，則不紀錄這筆資料\n",
    "    if(len(item)==0 or len(gram)==0 or (Date==None)):\n",
    "        print(\"請輸入完整內容\")\n",
    "        return\n",
    "    data = [[Date, item, gram, note]]  # 建list，這裡輸出依序是'日期', '品項', '金額', '備註'\n",
    "    df = pd.DataFrame(data, columns = ['日期', '食物名稱', '重量(公克)', '備註'])  # 存csv的標準格式:'DataFrame'\n",
    "    # 如果csv已經存在，則直接寫資料，不寫header\n",
    "    # 如果不存在，則把header也一起寫進csv檔\n",
    "    try:\n",
    "        with open('eatlist.csv','r') as f:\n",
    "            True\n",
    "        df.to_csv('eatlist.csv',mode='a', header=False, index=False)\n",
    "    except:\n",
    "        df.to_csv('eatlist.csv',mode='w', header=True, index=False)\n",
    "    print(' '*np.random.randint(10)+'紀錄成功！')\n",
    "    return"
   ]
  },
  {
   "cell_type": "markdown",
   "metadata": {},
   "source": [
    "---\n",
    "## Function definition 3\n",
    "- **CalculEat(Date)**\n",
    "    - 秀出特定日期當天攝取的食物熱量、營養素等等"
   ]
  },
  {
   "cell_type": "code",
   "execution_count": 4,
   "metadata": {},
   "outputs": [],
   "source": [
    "def CalculEat(Date):\n",
    "    TotalCalo = {'能量':[0,'千卡'], '蛋白質':[0,'克'], '碳水化合物':[0,'克'], '脂肪':[0,'克'], \n",
    "                 '膳食纖維':[0,'克'], '糖':[0,'克'], '飽和脂肪':[0,'克'], '反式脂肪':[0,'克'], \n",
    "                 '膽固醇':[0,'毫克'], '鈣':[0,'毫克'], '銅':[0,'毫克'], '鐵':[0,'毫克'], \n",
    "                 '鎂':[0,'毫克'], '錳':[0,'毫克'], '磷':[0,'毫克'], '鉀':[0,'毫克'], \n",
    "                 '鈉':[0,'毫克'], '鋅':[0,'毫克'], '維他命C':[0,'毫克']}\n",
    "    # try open csv\n",
    "    try:\n",
    "        df = pd.read_csv('eatlist.csv')\n",
    "    except:\n",
    "        print('目前還沒有任何紀錄可查詢，請先至少記錄一筆資料後再查詢。')\n",
    "        return\n",
    "    # 找出日期一樣的\n",
    "    df2 = df[df['日期']==str(Date)]\n",
    "    if(len(df2)==0):\n",
    "        print(Date.strftime('%Y') + '/' + Date.strftime('%m') + '/' + Date.strftime('%d') + \"沒有紀錄\");\n",
    "        return\n",
    "    df2.reset_index(inplace=True, drop=True)\n",
    "    # 統計當天總熱量及養分\n",
    "    for i in range(len(df2['食物名稱'])):\n",
    "        food = str(df2['食物名稱'][i])\n",
    "        calo = search4nutrient(food)\n",
    "        for key, value in TotalCalo.items():\n",
    "            TotalCalo[key][0] += float(calo['數值'][key])*(float(df2[df2['食物名稱']==food]['重量(公克)'])/100.0)\n",
    "    todf = pd.DataFrame.from_dict(TotalCalo,orient='index',columns=['數值','單位'])\n",
    "    todf.sort_values(by='單位',inplace=True)\n",
    "    # 用plt畫表格\n",
    "    plt.figure(1);\n",
    "    fig, ax = plt.subplots();\n",
    "    # 隱藏坐標軸\n",
    "    ax.xaxis.set_visible(False);\n",
    "    ax.yaxis.set_visible(False);\n",
    "    ax.axis('off');\n",
    "    ax.axis('tight');  # 設置為緊密貼合\n",
    "    ax.table(cellText=[[round(v[0],2),v[1]] for _,v in TotalCalo.items()], colLabels=todf.columns, rowLabels = [k for k,_ in TotalCalo.items()], loc='center');\n",
    "    fig.tight_layout();\n",
    "\n",
    "    # 統計三大營養素圓餅圖\n",
    "    col = ['醣類','脂質','蛋白質']\n",
    "    val = [(TotalCalo['糖'][0]+TotalCalo['碳水化合物'][0])*4.0, \n",
    "           (TotalCalo['脂肪'][0]+TotalCalo['飽和脂肪'][0]+TotalCalo['反式脂肪'][0])*9.0,\n",
    "          TotalCalo['蛋白質'][0]*4.0]\n",
    "    # 畫圓餅圖\n",
    "    plt.figure(2);\n",
    "    fig, ax = plt.subplots();\n",
    "    ax.pie(val, labels = col, autopct='%1.1f%%',shadow=True, startangle=90);\n",
    "    plt.title('三大營養素攝取比例');\n",
    "    fig.tight_layout();"
   ]
  },
  {
   "cell_type": "markdown",
   "metadata": {},
   "source": [
    "---\n",
    "## 建構interact元件\n",
    "- 根據RecordEat()建一個互動式表單\n",
    "- 根據CalculEar()建一個日期選單，讓使用者選擇要查看哪一天"
   ]
  },
  {
   "cell_type": "code",
   "execution_count": 6,
   "metadata": {},
   "outputs": [
    {
     "name": "stdout",
     "output_type": "stream",
     "text": [
      "                每日食物攝取紀錄表\n"
     ]
    },
    {
     "data": {
      "application/vnd.jupyter.widget-view+json": {
       "model_id": "dfba9cd7723e4775912a10151c3a2451",
       "version_major": 2,
       "version_minor": 0
      },
      "text/plain": [
       "interactive(children=(DatePicker(value=None, description='日期'), Text(value='', description='食物名稱', placeholder…"
      ]
     },
     "metadata": {},
     "output_type": "display_data"
    },
    {
     "name": "stdout",
     "output_type": "stream",
     "text": [
      "\n",
      "\n",
      "\n",
      "                查詢當天攝取熱量\n"
     ]
    },
    {
     "data": {
      "application/vnd.jupyter.widget-view+json": {
       "model_id": "fe7232b9354d4d2b94ca0572da9e7062",
       "version_major": 2,
       "version_minor": 0
      },
      "text/plain": [
       "interactive(children=(DatePicker(value=None, description='日期'), Button(description='Run Interact', style=Butto…"
      ]
     },
     "metadata": {},
     "output_type": "display_data"
    }
   ],
   "source": [
    "print(' '*16+'每日食物攝取紀錄表')\n",
    "interact_manual(\n",
    "    RecordEat,\n",
    "    Date=widgets.DatePicker(description='日期'),  # widget list DataPicker: 顯示可選擇日期的輸入框\n",
    "    item=widgets.Text(description='食物名稱',disabled=False,  #widget list Text: 輸入文字\n",
    "        placeholder='ex:白飯、油麵...'), \n",
    "    gram=widgets.Text(description='重量(公克)',disabled=False,\n",
    "        placeholder='ex:100'), \n",
    "    note=widgets.Textarea(description='備註', disabled=False,  #widget list TextArea: 輸入多行文字\n",
    "        placeholder='ex:九折商品...'),\n",
    ");\n",
    "\n",
    "\n",
    "print('\\n'*3+' '*16+'查詢當天攝取熱量')\n",
    "interact_manual(\n",
    "    CalculEat,\n",
    "    Date = widgets.DatePicker(description='日期')\n",
    ");"
   ]
  },
  {
   "cell_type": "markdown",
   "metadata": {},
   "source": [
    "<html><head>\n",
    "\n",
    "\n",
    "<!-- Load require.js. Delete this if your page already loads require.js -->\n",
    "<script src=\"https://cdnjs.cloudflare.com/ajax/libs/require.js/2.3.4/require.min.js\" integrity=\"sha256-Ae2Vz/4ePdIu6ZyI/5ZGsYnb+m0JlOmKPjt6XZ9JJkA=\" crossorigin=\"anonymous\"></script>\n",
    "<script src=\"https://unpkg.com/@jupyter-widgets/html-manager@*/dist/embed-amd.js\" crossorigin=\"anonymous\"></script>\n",
    "<script type=\"application/vnd.jupyter.widget-state+json\">\n",
    "{\n",
    "    \"version_major\": 2,\n",
    "    \"version_minor\": 0,\n",
    "    \"state\": {\n",
    "        \"119061287b544536bdcb05beb95aa0bc\": {\n",
    "            \"model_name\": \"DescriptionStyleModel\",\n",
    "            \"model_module\": \"@jupyter-widgets/controls\",\n",
    "            \"model_module_version\": \"1.4.0\",\n",
    "            \"state\": {\n",
    "                \"description_width\": \"\"\n",
    "            }\n",
    "        },\n",
    "        \"3cc6bc2564e14384bd643adec4fb6de0\": {\n",
    "            \"model_name\": \"LayoutModel\",\n",
    "            \"model_module\": \"@jupyter-widgets/base\",\n",
    "            \"model_module_version\": \"1.1.0\",\n",
    "            \"state\": {}\n",
    "        },\n",
    "        \"e69e0131421641a2b9ee6b8eab2acc86\": {\n",
    "            \"model_name\": \"DatePickerModel\",\n",
    "            \"model_module\": \"@jupyter-widgets/controls\",\n",
    "            \"model_module_version\": \"1.4.0\",\n",
    "            \"state\": {\n",
    "                \"description\": \"日期\",\n",
    "                \"style\": \"IPY_MODEL_119061287b544536bdcb05beb95aa0bc\",\n",
    "                \"disabled\": false,\n",
    "                \"value\": {\n",
    "                    \"year\": 2019,\n",
    "                    \"month\": 3,\n",
    "                    \"date\": 15\n",
    "                },\n",
    "                \"layout\": \"IPY_MODEL_3cc6bc2564e14384bd643adec4fb6de0\"\n",
    "            }\n",
    "        },\n",
    "        \"1833eaa3ba36472ab7887fca139f2a88\": {\n",
    "            \"model_name\": \"DescriptionStyleModel\",\n",
    "            \"model_module\": \"@jupyter-widgets/controls\",\n",
    "            \"model_module_version\": \"1.4.0\",\n",
    "            \"state\": {\n",
    "                \"description_width\": \"\"\n",
    "            }\n",
    "        },\n",
    "        \"ea91f3f4003140bd9431f143775f87c8\": {\n",
    "            \"model_name\": \"LayoutModel\",\n",
    "            \"model_module\": \"@jupyter-widgets/base\",\n",
    "            \"model_module_version\": \"1.1.0\",\n",
    "            \"state\": {}\n",
    "        },\n",
    "        \"e6da1ade59b74cd1bbe78e4ff4bf99f5\": {\n",
    "            \"model_name\": \"TextModel\",\n",
    "            \"model_module\": \"@jupyter-widgets/controls\",\n",
    "            \"model_module_version\": \"1.4.0\",\n",
    "            \"state\": {\n",
    "                \"description\": \"食物名稱\",\n",
    "                \"style\": \"IPY_MODEL_1833eaa3ba36472ab7887fca139f2a88\",\n",
    "                \"value\": \"飯糰\",\n",
    "                \"layout\": \"IPY_MODEL_ea91f3f4003140bd9431f143775f87c8\",\n",
    "                \"placeholder\": \"ex:白飯、油麵...\"\n",
    "            }\n",
    "        },\n",
    "        \"c286198e2c0a4a2f91f4f6b91f6cb599\": {\n",
    "            \"model_name\": \"DescriptionStyleModel\",\n",
    "            \"model_module\": \"@jupyter-widgets/controls\",\n",
    "            \"model_module_version\": \"1.4.0\",\n",
    "            \"state\": {\n",
    "                \"description_width\": \"\"\n",
    "            }\n",
    "        },\n",
    "        \"988274bbb6f54a7d98827caa8810f5d0\": {\n",
    "            \"model_name\": \"LayoutModel\",\n",
    "            \"model_module\": \"@jupyter-widgets/base\",\n",
    "            \"model_module_version\": \"1.1.0\",\n",
    "            \"state\": {}\n",
    "        },\n",
    "        \"9264d268a64c4f248946870570c95b0e\": {\n",
    "            \"model_name\": \"TextModel\",\n",
    "            \"model_module\": \"@jupyter-widgets/controls\",\n",
    "            \"model_module_version\": \"1.4.0\",\n",
    "            \"state\": {\n",
    "                \"description\": \"重量(公克)\",\n",
    "                \"style\": \"IPY_MODEL_c286198e2c0a4a2f91f4f6b91f6cb599\",\n",
    "                \"value\": \"250\",\n",
    "                \"layout\": \"IPY_MODEL_988274bbb6f54a7d98827caa8810f5d0\",\n",
    "                \"placeholder\": \"ex:100\"\n",
    "            }\n",
    "        },\n",
    "        \"d0f3dbfbc40d465a9e87b42694f6406d\": {\n",
    "            \"model_name\": \"DescriptionStyleModel\",\n",
    "            \"model_module\": \"@jupyter-widgets/controls\",\n",
    "            \"model_module_version\": \"1.4.0\",\n",
    "            \"state\": {\n",
    "                \"description_width\": \"\"\n",
    "            }\n",
    "        },\n",
    "        \"c59aec404335431c9c6f048c1df7f688\": {\n",
    "            \"model_name\": \"LayoutModel\",\n",
    "            \"model_module\": \"@jupyter-widgets/base\",\n",
    "            \"model_module_version\": \"1.1.0\",\n",
    "            \"state\": {}\n",
    "        },\n",
    "        \"2c629bbb562746a7bcff895ec4bf9072\": {\n",
    "            \"model_name\": \"TextareaModel\",\n",
    "            \"model_module\": \"@jupyter-widgets/controls\",\n",
    "            \"model_module_version\": \"1.4.0\",\n",
    "            \"state\": {\n",
    "                \"description\": \"備註\",\n",
    "                \"layout\": \"IPY_MODEL_c59aec404335431c9c6f048c1df7f688\",\n",
    "                \"style\": \"IPY_MODEL_d0f3dbfbc40d465a9e87b42694f6406d\",\n",
    "                \"placeholder\": \"ex:九折商品...\"\n",
    "            }\n",
    "        },\n",
    "        \"623ca3f9d46b45dd992b8d45ab633275\": {\n",
    "            \"model_name\": \"LayoutModel\",\n",
    "            \"model_module\": \"@jupyter-widgets/base\",\n",
    "            \"model_module_version\": \"1.1.0\",\n",
    "            \"state\": {}\n",
    "        },\n",
    "        \"7971196dea494f95ac9c502564cdf669\": {\n",
    "            \"model_name\": \"VBoxModel\",\n",
    "            \"model_module\": \"@jupyter-widgets/controls\",\n",
    "            \"model_module_version\": \"1.4.0\",\n",
    "            \"state\": {\n",
    "                \"layout\": \"IPY_MODEL_623ca3f9d46b45dd992b8d45ab633275\",\n",
    "                \"_dom_classes\": [\n",
    "                    \"widget-interact\"\n",
    "                ],\n",
    "                \"children\": [\n",
    "                    \"IPY_MODEL_e69e0131421641a2b9ee6b8eab2acc86\",\n",
    "                    \"IPY_MODEL_e6da1ade59b74cd1bbe78e4ff4bf99f5\",\n",
    "                    \"IPY_MODEL_9264d268a64c4f248946870570c95b0e\",\n",
    "                    \"IPY_MODEL_2c629bbb562746a7bcff895ec4bf9072\",\n",
    "                    \"IPY_MODEL_568bd807d0374d87ab7503d0443528e1\",\n",
    "                    \"IPY_MODEL_0fa2fe42e77b46a0856a835d15680b9e\"\n",
    "                ]\n",
    "            }\n",
    "        },\n",
    "        \"59b7f43edbbd411599e5773746d9e9b2\": {\n",
    "            \"model_name\": \"ButtonStyleModel\",\n",
    "            \"model_module\": \"@jupyter-widgets/controls\",\n",
    "            \"model_module_version\": \"1.4.0\",\n",
    "            \"state\": {}\n",
    "        },\n",
    "        \"5bd394bacfb0415a9bc18286337c6e71\": {\n",
    "            \"model_name\": \"LayoutModel\",\n",
    "            \"model_module\": \"@jupyter-widgets/base\",\n",
    "            \"model_module_version\": \"1.1.0\",\n",
    "            \"state\": {}\n",
    "        },\n",
    "        \"568bd807d0374d87ab7503d0443528e1\": {\n",
    "            \"model_name\": \"ButtonModel\",\n",
    "            \"model_module\": \"@jupyter-widgets/controls\",\n",
    "            \"model_module_version\": \"1.4.0\",\n",
    "            \"state\": {\n",
    "                \"description\": \"Run Interact\",\n",
    "                \"style\": \"IPY_MODEL_59b7f43edbbd411599e5773746d9e9b2\",\n",
    "                \"layout\": \"IPY_MODEL_5bd394bacfb0415a9bc18286337c6e71\"\n",
    "            }\n",
    "        },\n",
    "        \"88f69369da9a4201b9e1bb2bdd17ae39\": {\n",
    "            \"model_name\": \"LayoutModel\",\n",
    "            \"model_module\": \"@jupyter-widgets/base\",\n",
    "            \"model_module_version\": \"1.1.0\",\n",
    "            \"state\": {}\n",
    "        },\n",
    "        \"0fa2fe42e77b46a0856a835d15680b9e\": {\n",
    "            \"model_name\": \"OutputModel\",\n",
    "            \"model_module\": \"@jupyter-widgets/output\",\n",
    "            \"model_module_version\": \"1.0.0\",\n",
    "            \"state\": {\n",
    "                \"outputs\": [\n",
    "                    {\n",
    "                        \"output_type\": \"stream\",\n",
    "                        \"text\": \"      紀錄成功！\\n\",\n",
    "                        \"name\": \"stdout\"\n",
    "                    }\n",
    "                ],\n",
    "                \"layout\": \"IPY_MODEL_88f69369da9a4201b9e1bb2bdd17ae39\"\n",
    "            }\n",
    "        },\n",
    "        \"c5d84867ef58453bb4cb4b0e2a47d5e4\": {\n",
    "            \"model_name\": \"DescriptionStyleModel\",\n",
    "            \"model_module\": \"@jupyter-widgets/controls\",\n",
    "            \"model_module_version\": \"1.4.0\",\n",
    "            \"state\": {\n",
    "                \"description_width\": \"\"\n",
    "            }\n",
    "        },\n",
    "        \"a8bc52baa4664411b122d6f22f0311de\": {\n",
    "            \"model_name\": \"LayoutModel\",\n",
    "            \"model_module\": \"@jupyter-widgets/base\",\n",
    "            \"model_module_version\": \"1.1.0\",\n",
    "            \"state\": {}\n",
    "        },\n",
    "        \"befd4b5e6fd34f46b94f2460b21e1fe9\": {\n",
    "            \"model_name\": \"DatePickerModel\",\n",
    "            \"model_module\": \"@jupyter-widgets/controls\",\n",
    "            \"model_module_version\": \"1.4.0\",\n",
    "            \"state\": {\n",
    "                \"description\": \"日期\",\n",
    "                \"style\": \"IPY_MODEL_c5d84867ef58453bb4cb4b0e2a47d5e4\",\n",
    "                \"disabled\": false,\n",
    "                \"value\": {\n",
    "                    \"year\": 2019,\n",
    "                    \"month\": 3,\n",
    "                    \"date\": 14\n",
    "                },\n",
    "                \"layout\": \"IPY_MODEL_a8bc52baa4664411b122d6f22f0311de\"\n",
    "            }\n",
    "        },\n",
    "        \"9130327998f34d7c9f963a28ebe37c77\": {\n",
    "            \"model_name\": \"LayoutModel\",\n",
    "            \"model_module\": \"@jupyter-widgets/base\",\n",
    "            \"model_module_version\": \"1.1.0\",\n",
    "            \"state\": {}\n",
    "        },\n",
    "        \"4b352cf198fc46cb92952aa63b68e8e8\": {\n",
    "            \"model_name\": \"VBoxModel\",\n",
    "            \"model_module\": \"@jupyter-widgets/controls\",\n",
    "            \"model_module_version\": \"1.4.0\",\n",
    "            \"state\": {\n",
    "                \"layout\": \"IPY_MODEL_9130327998f34d7c9f963a28ebe37c77\",\n",
    "                \"_dom_classes\": [\n",
    "                    \"widget-interact\"\n",
    "                ],\n",
    "                \"children\": [\n",
    "                    \"IPY_MODEL_befd4b5e6fd34f46b94f2460b21e1fe9\",\n",
    "                    \"IPY_MODEL_3daf3b8cdebe4cedb4d0588c73cbaa56\",\n",
    "                    \"IPY_MODEL_77ba7615d45c4b5eac8201d58ccadf8a\"\n",
    "                ]\n",
    "            }\n",
    "        },\n",
    "        \"5f2f71e14831489e9bbe8138280aa57a\": {\n",
    "            \"model_name\": \"ButtonStyleModel\",\n",
    "            \"model_module\": \"@jupyter-widgets/controls\",\n",
    "            \"model_module_version\": \"1.4.0\",\n",
    "            \"state\": {}\n",
    "        },\n",
    "        \"4b00c9e24a4344ac8c5a30066fb7f475\": {\n",
    "            \"model_name\": \"LayoutModel\",\n",
    "            \"model_module\": \"@jupyter-widgets/base\",\n",
    "            \"model_module_version\": \"1.1.0\",\n",
    "            \"state\": {}\n",
    "        },\n",
    "        \"3daf3b8cdebe4cedb4d0588c73cbaa56\": {\n",
    "            \"model_name\": \"ButtonModel\",\n",
    "            \"model_module\": \"@jupyter-widgets/controls\",\n",
    "            \"model_module_version\": \"1.4.0\",\n",
    "            \"state\": {\n",
    "                \"description\": \"Run Interact\",\n",
    "                \"style\": \"IPY_MODEL_5f2f71e14831489e9bbe8138280aa57a\",\n",
    "                \"layout\": \"IPY_MODEL_4b00c9e24a4344ac8c5a30066fb7f475\"\n",
    "            }\n",
    "        },\n",
    "        \"12810ce0ba8e479183f1a775fb1e9abb\": {\n",
    "            \"model_name\": \"LayoutModel\",\n",
    "            \"model_module\": \"@jupyter-widgets/base\",\n",
    "            \"model_module_version\": \"1.1.0\",\n",
    "            \"state\": {}\n",
    "        },\n",
    "        \"77ba7615d45c4b5eac8201d58ccadf8a\": {\n",
    "            \"model_name\": \"OutputModel\",\n",
    "            \"model_module\": \"@jupyter-widgets/output\",\n",
    "            \"model_module_version\": \"1.0.0\",\n",
    "            \"state\": {\n",
    "                \"outputs\": [\n",
    "                    {\n",
    "                        \"output_type\": \"display_data\",\n",
    "                        \"data\": {\n",
    "                            \"text/plain\": \"<Figure size 432x288 with 0 Axes>\"\n",
    "                        },\n",
    "                        \"metadata\": {}\n",
    "                    },\n",
    "                    {\n",
    "                        \"output_type\": \"display_data\",\n",
    "                        \"data\": {\n",
    "                            \"image/png\": \"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\\n\",\n",
    "                            \"text/plain\": \"<Figure size 432x288 with 1 Axes>\"\n",
    "                        },\n",
    "                        \"metadata\": {\n",
    "                            \"needs_background\": \"light\"\n",
    "                        }\n",
    "                    },\n",
    "                    {\n",
    "                        \"output_type\": \"display_data\",\n",
    "                        \"data\": {\n",
    "                            \"image/png\": \"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\\n\",\n",
    "                            \"text/plain\": \"<Figure size 432x288 with 1 Axes>\"\n",
    "                        },\n",
    "                        \"metadata\": {}\n",
    "                    }\n",
    "                ],\n",
    "                \"layout\": \"IPY_MODEL_12810ce0ba8e479183f1a775fb1e9abb\"\n",
    "            }\n",
    "        }\n",
    "    }\n",
    "}\n",
    "</script>\n",
    "</head>\n",
    "<body>\n",
    "\n",
    "<script type=\"application/vnd.jupyter.widget-view+json\">\n",
    "{\n",
    "    \"version_minor\": 0,\n",
    "    \"model_id\": \"7971196dea494f95ac9c502564cdf669\",\n",
    "    \"version_major\": 2\n",
    "}\n",
    "</script>\n",
    "\n",
    "<script type=\"application/vnd.jupyter.widget-view+json\">\n",
    "{\n",
    "    \"version_minor\": 0,\n",
    "    \"model_id\": \"4b352cf198fc46cb92952aa63b68e8e8\",\n",
    "    \"version_major\": 2\n",
    "}\n",
    "</script>\n",
    "\n",
    "</body>\n",
    "</html>\n"
   ]
  },
  {
   "cell_type": "markdown",
   "metadata": {},
   "source": [
    "---\n",
    "顯示結果：\n",
    "![互動式輸入](MidProj/MidProj1.png)\n",
    "![統計表圓餅圖](MidProj/MidProj2.png)"
   ]
  },
  {
   "cell_type": "code",
   "execution_count": null,
   "metadata": {},
   "outputs": [],
   "source": []
  }
 ],
 "metadata": {
  "kernelspec": {
   "display_name": "Python 3",
   "language": "python",
   "name": "python3"
  },
  "language_info": {
   "codemirror_mode": {
    "name": "ipython",
    "version": 3
   },
   "file_extension": ".py",
   "mimetype": "text/x-python",
   "name": "python",
   "nbconvert_exporter": "python",
   "pygments_lexer": "ipython3",
   "version": "3.6.7"
  },
  "widgets": {
   "application/vnd.jupyter.widget-state+json": {
    "state": {
     "0d7207c359f8434f87a1fcd18f2c3dfc": {
      "model_module": "@jupyter-widgets/base",
      "model_module_version": "1.1.0",
      "model_name": "LayoutModel",
      "state": {}
     },
     "0dc599864b694faf8df6cd87dfec1951": {
      "model_module": "@jupyter-widgets/base",
      "model_module_version": "1.1.0",
      "model_name": "LayoutModel",
      "state": {}
     },
     "0fa2fe42e77b46a0856a835d15680b9e": {
      "model_module": "@jupyter-widgets/output",
      "model_module_version": "1.0.0",
      "model_name": "OutputModel",
      "state": {
       "layout": "IPY_MODEL_88f69369da9a4201b9e1bb2bdd17ae39",
       "outputs": [
        {
         "name": "stdout",
         "output_type": "stream",
         "text": "      紀錄成功！\n"
        }
       ]
      }
     },
     "10d1f0a04e5446abab5a951156c5624f": {
      "model_module": "@jupyter-widgets/controls",
      "model_module_version": "1.4.0",
      "model_name": "TextModel",
      "state": {
       "description": "食物名稱",
       "layout": "IPY_MODEL_495e1847b5154132b235bbeca42a998d",
       "placeholder": "ex:白飯、油麵...",
       "style": "IPY_MODEL_ffcc60443bad44abbff36b82fd655ccb",
       "value": "麥香雞堡"
      }
     },
     "119061287b544536bdcb05beb95aa0bc": {
      "model_module": "@jupyter-widgets/controls",
      "model_module_version": "1.4.0",
      "model_name": "DescriptionStyleModel",
      "state": {
       "description_width": ""
      }
     },
     "12810ce0ba8e479183f1a775fb1e9abb": {
      "model_module": "@jupyter-widgets/base",
      "model_module_version": "1.1.0",
      "model_name": "LayoutModel",
      "state": {}
     },
     "1706feca92c64975a0967f8857347e9c": {
      "model_module": "@jupyter-widgets/base",
      "model_module_version": "1.1.0",
      "model_name": "LayoutModel",
      "state": {}
     },
     "1833eaa3ba36472ab7887fca139f2a88": {
      "model_module": "@jupyter-widgets/controls",
      "model_module_version": "1.4.0",
      "model_name": "DescriptionStyleModel",
      "state": {
       "description_width": ""
      }
     },
     "1b801ad6f8a646d0b32a8c59d11b8045": {
      "model_module": "@jupyter-widgets/controls",
      "model_module_version": "1.4.0",
      "model_name": "ButtonModel",
      "state": {
       "description": "Run Interact",
       "layout": "IPY_MODEL_af8d1ce6c8fa4b1f9bc261247c486353",
       "style": "IPY_MODEL_43d3a372a02b4b3f8209614c5ac76a20"
      }
     },
     "2084fa8f1b96485cad9ce29262a50211": {
      "model_module": "@jupyter-widgets/controls",
      "model_module_version": "1.4.0",
      "model_name": "ButtonStyleModel",
      "state": {}
     },
     "208948771804465ea1d6a4c3d45d07f3": {
      "model_module": "@jupyter-widgets/controls",
      "model_module_version": "1.4.0",
      "model_name": "DescriptionStyleModel",
      "state": {
       "description_width": ""
      }
     },
     "2c629bbb562746a7bcff895ec4bf9072": {
      "model_module": "@jupyter-widgets/controls",
      "model_module_version": "1.4.0",
      "model_name": "TextareaModel",
      "state": {
       "description": "備註",
       "layout": "IPY_MODEL_c59aec404335431c9c6f048c1df7f688",
       "placeholder": "ex:九折商品...",
       "style": "IPY_MODEL_d0f3dbfbc40d465a9e87b42694f6406d"
      }
     },
     "322cb3050e5a470081b43a7cc20b7371": {
      "model_module": "@jupyter-widgets/controls",
      "model_module_version": "1.4.0",
      "model_name": "DescriptionStyleModel",
      "state": {
       "description_width": ""
      }
     },
     "3cc6bc2564e14384bd643adec4fb6de0": {
      "model_module": "@jupyter-widgets/base",
      "model_module_version": "1.1.0",
      "model_name": "LayoutModel",
      "state": {}
     },
     "3daf3b8cdebe4cedb4d0588c73cbaa56": {
      "model_module": "@jupyter-widgets/controls",
      "model_module_version": "1.4.0",
      "model_name": "ButtonModel",
      "state": {
       "description": "Run Interact",
       "layout": "IPY_MODEL_4b00c9e24a4344ac8c5a30066fb7f475",
       "style": "IPY_MODEL_5f2f71e14831489e9bbe8138280aa57a"
      }
     },
     "43d3a372a02b4b3f8209614c5ac76a20": {
      "model_module": "@jupyter-widgets/controls",
      "model_module_version": "1.4.0",
      "model_name": "ButtonStyleModel",
      "state": {}
     },
     "495e1847b5154132b235bbeca42a998d": {
      "model_module": "@jupyter-widgets/base",
      "model_module_version": "1.1.0",
      "model_name": "LayoutModel",
      "state": {}
     },
     "4b00c9e24a4344ac8c5a30066fb7f475": {
      "model_module": "@jupyter-widgets/base",
      "model_module_version": "1.1.0",
      "model_name": "LayoutModel",
      "state": {}
     },
     "4b352cf198fc46cb92952aa63b68e8e8": {
      "model_module": "@jupyter-widgets/controls",
      "model_module_version": "1.4.0",
      "model_name": "VBoxModel",
      "state": {
       "_dom_classes": [
        "widget-interact"
       ],
       "children": [
        "IPY_MODEL_befd4b5e6fd34f46b94f2460b21e1fe9",
        "IPY_MODEL_3daf3b8cdebe4cedb4d0588c73cbaa56",
        "IPY_MODEL_77ba7615d45c4b5eac8201d58ccadf8a"
       ],
       "layout": "IPY_MODEL_9130327998f34d7c9f963a28ebe37c77"
      }
     },
     "4b3c29f03166477ca3aac0fa6f021e67": {
      "model_module": "@jupyter-widgets/output",
      "model_module_version": "1.0.0",
      "model_name": "OutputModel",
      "state": {
       "layout": "IPY_MODEL_c544002e482f41f2b9acb46ca283d965",
       "outputs": [
        {
         "name": "stdout",
         "output_type": "stream",
         "text": "   紀錄成功！\n"
        }
       ]
      }
     },
     "568bd807d0374d87ab7503d0443528e1": {
      "model_module": "@jupyter-widgets/controls",
      "model_module_version": "1.4.0",
      "model_name": "ButtonModel",
      "state": {
       "description": "Run Interact",
       "layout": "IPY_MODEL_5bd394bacfb0415a9bc18286337c6e71",
       "style": "IPY_MODEL_59b7f43edbbd411599e5773746d9e9b2"
      }
     },
     "574d725e5cc04ee2b3ee76b221c53336": {
      "model_module": "@jupyter-widgets/base",
      "model_module_version": "1.1.0",
      "model_name": "LayoutModel",
      "state": {}
     },
     "59b7f43edbbd411599e5773746d9e9b2": {
      "model_module": "@jupyter-widgets/controls",
      "model_module_version": "1.4.0",
      "model_name": "ButtonStyleModel",
      "state": {}
     },
     "5bd394bacfb0415a9bc18286337c6e71": {
      "model_module": "@jupyter-widgets/base",
      "model_module_version": "1.1.0",
      "model_name": "LayoutModel",
      "state": {}
     },
     "5f2f71e14831489e9bbe8138280aa57a": {
      "model_module": "@jupyter-widgets/controls",
      "model_module_version": "1.4.0",
      "model_name": "ButtonStyleModel",
      "state": {}
     },
     "623ca3f9d46b45dd992b8d45ab633275": {
      "model_module": "@jupyter-widgets/base",
      "model_module_version": "1.1.0",
      "model_name": "LayoutModel",
      "state": {}
     },
     "64899636136942ca85bbd601f2fa6abc": {
      "model_module": "@jupyter-widgets/base",
      "model_module_version": "1.1.0",
      "model_name": "LayoutModel",
      "state": {}
     },
     "77ba7615d45c4b5eac8201d58ccadf8a": {
      "model_module": "@jupyter-widgets/output",
      "model_module_version": "1.0.0",
      "model_name": "OutputModel",
      "state": {
       "layout": "IPY_MODEL_12810ce0ba8e479183f1a775fb1e9abb",
       "outputs": [
        {
         "data": {
          "text/plain": "<Figure size 432x288 with 0 Axes>"
         },
         "metadata": {},
         "output_type": "display_data"
        },
        {
         "data": {
          "image/png": "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\n",
          "text/plain": "<Figure size 432x288 with 1 Axes>"
         },
         "metadata": {
          "needs_background": "light"
         },
         "output_type": "display_data"
        },
        {
         "data": {
          "image/png": "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\n",
          "text/plain": "<Figure size 432x288 with 1 Axes>"
         },
         "metadata": {},
         "output_type": "display_data"
        }
       ]
      }
     },
     "7971196dea494f95ac9c502564cdf669": {
      "model_module": "@jupyter-widgets/controls",
      "model_module_version": "1.4.0",
      "model_name": "VBoxModel",
      "state": {
       "_dom_classes": [
        "widget-interact"
       ],
       "children": [
        "IPY_MODEL_e69e0131421641a2b9ee6b8eab2acc86",
        "IPY_MODEL_e6da1ade59b74cd1bbe78e4ff4bf99f5",
        "IPY_MODEL_9264d268a64c4f248946870570c95b0e",
        "IPY_MODEL_2c629bbb562746a7bcff895ec4bf9072",
        "IPY_MODEL_568bd807d0374d87ab7503d0443528e1",
        "IPY_MODEL_0fa2fe42e77b46a0856a835d15680b9e"
       ],
       "layout": "IPY_MODEL_623ca3f9d46b45dd992b8d45ab633275"
      }
     },
     "87e4a89c37b94929bc08d8e0201cb5ac": {
      "model_module": "@jupyter-widgets/controls",
      "model_module_version": "1.4.0",
      "model_name": "DatePickerModel",
      "state": {
       "description": "日期",
       "disabled": false,
       "layout": "IPY_MODEL_1706feca92c64975a0967f8857347e9c",
       "style": "IPY_MODEL_9ff91e7f33f64ef085152d54dddab750",
       "value": {
        "date": 14,
        "month": 3,
        "year": 2019
       }
      }
     },
     "88f69369da9a4201b9e1bb2bdd17ae39": {
      "model_module": "@jupyter-widgets/base",
      "model_module_version": "1.1.0",
      "model_name": "LayoutModel",
      "state": {}
     },
     "9130327998f34d7c9f963a28ebe37c77": {
      "model_module": "@jupyter-widgets/base",
      "model_module_version": "1.1.0",
      "model_name": "LayoutModel",
      "state": {}
     },
     "9264d268a64c4f248946870570c95b0e": {
      "model_module": "@jupyter-widgets/controls",
      "model_module_version": "1.4.0",
      "model_name": "TextModel",
      "state": {
       "description": "重量(公克)",
       "layout": "IPY_MODEL_988274bbb6f54a7d98827caa8810f5d0",
       "placeholder": "ex:100",
       "style": "IPY_MODEL_c286198e2c0a4a2f91f4f6b91f6cb599",
       "value": "250"
      }
     },
     "9566d7a295f64cc692b2e398dbfaa2ca": {
      "model_module": "@jupyter-widgets/base",
      "model_module_version": "1.1.0",
      "model_name": "LayoutModel",
      "state": {}
     },
     "96518628e7c4429caec83e2798068414": {
      "model_module": "@jupyter-widgets/output",
      "model_module_version": "1.0.0",
      "model_name": "OutputModel",
      "state": {
       "layout": "IPY_MODEL_bfabe398a0bd49cab77bd614c34fa1f7",
       "outputs": [
        {
         "data": {
          "text/plain": "<Figure size 432x288 with 0 Axes>"
         },
         "metadata": {},
         "output_type": "display_data"
        },
        {
         "data": {
          "image/png": "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\n",
          "text/plain": "<Figure size 432x288 with 1 Axes>"
         },
         "metadata": {
          "needs_background": "light"
         },
         "output_type": "display_data"
        },
        {
         "data": {
          "image/png": "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\n",
          "text/plain": "<Figure size 432x288 with 1 Axes>"
         },
         "metadata": {},
         "output_type": "display_data"
        }
       ]
      }
     },
     "988274bbb6f54a7d98827caa8810f5d0": {
      "model_module": "@jupyter-widgets/base",
      "model_module_version": "1.1.0",
      "model_name": "LayoutModel",
      "state": {}
     },
     "9ff91e7f33f64ef085152d54dddab750": {
      "model_module": "@jupyter-widgets/controls",
      "model_module_version": "1.4.0",
      "model_name": "DescriptionStyleModel",
      "state": {
       "description_width": ""
      }
     },
     "a60a7ed2ae2b4bae821db99ac6b97b96": {
      "model_module": "@jupyter-widgets/controls",
      "model_module_version": "1.4.0",
      "model_name": "DescriptionStyleModel",
      "state": {
       "description_width": ""
      }
     },
     "a8bc52baa4664411b122d6f22f0311de": {
      "model_module": "@jupyter-widgets/base",
      "model_module_version": "1.1.0",
      "model_name": "LayoutModel",
      "state": {}
     },
     "af8d1ce6c8fa4b1f9bc261247c486353": {
      "model_module": "@jupyter-widgets/base",
      "model_module_version": "1.1.0",
      "model_name": "LayoutModel",
      "state": {}
     },
     "b2ff627c6e8641b69809c9ad42fc8c89": {
      "model_module": "@jupyter-widgets/base",
      "model_module_version": "1.1.0",
      "model_name": "LayoutModel",
      "state": {}
     },
     "be8a0171861a4a38b8ddb50fb14aa40e": {
      "model_module": "@jupyter-widgets/controls",
      "model_module_version": "1.4.0",
      "model_name": "ButtonModel",
      "state": {
       "description": "Run Interact",
       "layout": "IPY_MODEL_9566d7a295f64cc692b2e398dbfaa2ca",
       "style": "IPY_MODEL_2084fa8f1b96485cad9ce29262a50211"
      }
     },
     "befd4b5e6fd34f46b94f2460b21e1fe9": {
      "model_module": "@jupyter-widgets/controls",
      "model_module_version": "1.4.0",
      "model_name": "DatePickerModel",
      "state": {
       "description": "日期",
       "disabled": false,
       "layout": "IPY_MODEL_a8bc52baa4664411b122d6f22f0311de",
       "style": "IPY_MODEL_c5d84867ef58453bb4cb4b0e2a47d5e4",
       "value": {
        "date": 14,
        "month": 3,
        "year": 2019
       }
      }
     },
     "bfabe398a0bd49cab77bd614c34fa1f7": {
      "model_module": "@jupyter-widgets/base",
      "model_module_version": "1.1.0",
      "model_name": "LayoutModel",
      "state": {}
     },
     "c286198e2c0a4a2f91f4f6b91f6cb599": {
      "model_module": "@jupyter-widgets/controls",
      "model_module_version": "1.4.0",
      "model_name": "DescriptionStyleModel",
      "state": {
       "description_width": ""
      }
     },
     "c544002e482f41f2b9acb46ca283d965": {
      "model_module": "@jupyter-widgets/base",
      "model_module_version": "1.1.0",
      "model_name": "LayoutModel",
      "state": {}
     },
     "c59aec404335431c9c6f048c1df7f688": {
      "model_module": "@jupyter-widgets/base",
      "model_module_version": "1.1.0",
      "model_name": "LayoutModel",
      "state": {}
     },
     "c5d84867ef58453bb4cb4b0e2a47d5e4": {
      "model_module": "@jupyter-widgets/controls",
      "model_module_version": "1.4.0",
      "model_name": "DescriptionStyleModel",
      "state": {
       "description_width": ""
      }
     },
     "cc4e6cd3e1e14385833f3179b36161e0": {
      "model_module": "@jupyter-widgets/controls",
      "model_module_version": "1.4.0",
      "model_name": "TextModel",
      "state": {
       "description": "重量(公克)",
       "layout": "IPY_MODEL_0d7207c359f8434f87a1fcd18f2c3dfc",
       "placeholder": "ex:100",
       "style": "IPY_MODEL_a60a7ed2ae2b4bae821db99ac6b97b96",
       "value": "200"
      }
     },
     "d0f3dbfbc40d465a9e87b42694f6406d": {
      "model_module": "@jupyter-widgets/controls",
      "model_module_version": "1.4.0",
      "model_name": "DescriptionStyleModel",
      "state": {
       "description_width": ""
      }
     },
     "d65d8aa096b84f02ac63808b7c617fcd": {
      "model_module": "@jupyter-widgets/controls",
      "model_module_version": "1.4.0",
      "model_name": "TextareaModel",
      "state": {
       "description": "備註",
       "layout": "IPY_MODEL_574d725e5cc04ee2b3ee76b221c53336",
       "placeholder": "ex:九折商品...",
       "style": "IPY_MODEL_208948771804465ea1d6a4c3d45d07f3"
      }
     },
     "dfba9cd7723e4775912a10151c3a2451": {
      "model_module": "@jupyter-widgets/controls",
      "model_module_version": "1.4.0",
      "model_name": "VBoxModel",
      "state": {
       "_dom_classes": [
        "widget-interact"
       ],
       "children": [
        "IPY_MODEL_e9ec3a08a67b4bdf9df9d4472e0c72a3",
        "IPY_MODEL_10d1f0a04e5446abab5a951156c5624f",
        "IPY_MODEL_cc4e6cd3e1e14385833f3179b36161e0",
        "IPY_MODEL_d65d8aa096b84f02ac63808b7c617fcd",
        "IPY_MODEL_1b801ad6f8a646d0b32a8c59d11b8045",
        "IPY_MODEL_4b3c29f03166477ca3aac0fa6f021e67"
       ],
       "layout": "IPY_MODEL_0dc599864b694faf8df6cd87dfec1951"
      }
     },
     "e69e0131421641a2b9ee6b8eab2acc86": {
      "model_module": "@jupyter-widgets/controls",
      "model_module_version": "1.4.0",
      "model_name": "DatePickerModel",
      "state": {
       "description": "日期",
       "disabled": false,
       "layout": "IPY_MODEL_3cc6bc2564e14384bd643adec4fb6de0",
       "style": "IPY_MODEL_119061287b544536bdcb05beb95aa0bc",
       "value": {
        "date": 15,
        "month": 3,
        "year": 2019
       }
      }
     },
     "e6da1ade59b74cd1bbe78e4ff4bf99f5": {
      "model_module": "@jupyter-widgets/controls",
      "model_module_version": "1.4.0",
      "model_name": "TextModel",
      "state": {
       "description": "食物名稱",
       "layout": "IPY_MODEL_ea91f3f4003140bd9431f143775f87c8",
       "placeholder": "ex:白飯、油麵...",
       "style": "IPY_MODEL_1833eaa3ba36472ab7887fca139f2a88",
       "value": "飯糰"
      }
     },
     "e9ec3a08a67b4bdf9df9d4472e0c72a3": {
      "model_module": "@jupyter-widgets/controls",
      "model_module_version": "1.4.0",
      "model_name": "DatePickerModel",
      "state": {
       "description": "日期",
       "disabled": false,
       "layout": "IPY_MODEL_64899636136942ca85bbd601f2fa6abc",
       "style": "IPY_MODEL_322cb3050e5a470081b43a7cc20b7371",
       "value": {
        "date": 15,
        "month": 3,
        "year": 2019
       }
      }
     },
     "ea91f3f4003140bd9431f143775f87c8": {
      "model_module": "@jupyter-widgets/base",
      "model_module_version": "1.1.0",
      "model_name": "LayoutModel",
      "state": {}
     },
     "fe7232b9354d4d2b94ca0572da9e7062": {
      "model_module": "@jupyter-widgets/controls",
      "model_module_version": "1.4.0",
      "model_name": "VBoxModel",
      "state": {
       "_dom_classes": [
        "widget-interact"
       ],
       "children": [
        "IPY_MODEL_87e4a89c37b94929bc08d8e0201cb5ac",
        "IPY_MODEL_be8a0171861a4a38b8ddb50fb14aa40e",
        "IPY_MODEL_96518628e7c4429caec83e2798068414"
       ],
       "layout": "IPY_MODEL_b2ff627c6e8641b69809c9ad42fc8c89"
      }
     },
     "ffcc60443bad44abbff36b82fd655ccb": {
      "model_module": "@jupyter-widgets/controls",
      "model_module_version": "1.4.0",
      "model_name": "DescriptionStyleModel",
      "state": {
       "description_width": ""
      }
     }
    },
    "version_major": 2,
    "version_minor": 0
   }
  }
 },
 "nbformat": 4,
 "nbformat_minor": 2
}
