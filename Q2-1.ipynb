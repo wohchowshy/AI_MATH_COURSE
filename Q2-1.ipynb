{
 "cells": [
  {
   "cell_type": "code",
   "execution_count": 52,
   "metadata": {},
   "outputs": [
    {
     "data": {
      "application/vnd.jupyter.widget-view+json": {
       "model_id": "b83df49c3e414cb698d127efb8690152",
       "version_major": 2,
       "version_minor": 0
      },
      "text/plain": [
       "interactive(children=(Text(value='1', description='x2'), Text(value='0', description='x1'), Text(value='0', de…"
      ]
     },
     "metadata": {},
     "output_type": "display_data"
    }
   ],
   "source": [
    "%matplotlib inline\n",
    "from ipywidgets import interact\n",
    "import matplotlib.pyplot as plt\n",
    "import numpy as np\n",
    "\n",
    "def f(x2=1, x1=0, x0=0):\n",
    "    x = np.arange(0,100,0.1)\n",
    "    y = float(x2)*x*x + float(x1)*x + float(x0)\n",
    "    plt.plot(x,y)\n",
    "    plt.xlim(0,10)\n",
    "    plt.ylim(0,100)\n",
    "\n",
    "  \n",
    "interact(f, x2=\"1\", x1 = \"0\", x0=\"0\");"
   ]
  },
  {
   "cell_type": "code",
   "execution_count": null,
   "metadata": {},
   "outputs": [],
   "source": []
  }
 ],
 "metadata": {
  "kernelspec": {
   "display_name": "Python 3",
   "language": "python",
   "name": "python3"
  },
  "language_info": {
   "codemirror_mode": {
    "name": "ipython",
    "version": 3
   },
   "file_extension": ".py",
   "mimetype": "text/x-python",
   "name": "python",
   "nbconvert_exporter": "python",
   "pygments_lexer": "ipython3",
   "version": "3.7.0"
  }
 },
 "nbformat": 4,
 "nbformat_minor": 2
}
