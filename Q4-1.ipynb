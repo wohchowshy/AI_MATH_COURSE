{
 "cells": [
  {
   "cell_type": "code",
   "execution_count": 1,
   "metadata": {},
   "outputs": [
    {
     "data": {
      "image/png": "[encoded data removed]",
      "text/plain": [
       "<Figure size 432x288 with 1 Axes>"
      ]
     },
     "metadata": {
      "needs_background": "light"
     },
     "output_type": "display_data"
    }
   ],
   "source": [
    "%matplotlib inline\n",
    "\n",
    "from matplotlib.font_manager import FontProperties\n",
    "import matplotlib.pyplot as plt\n",
    "import numpy as np\n",
    "import pandas as pd\n",
    "\n",
    "myf = FontProperties(fname=r'/usr/share/fonts/opentype/noto/NotoSansCJK-Black.ttc')\n",
    "\n",
    "# 比較四個時段所發生的車禍中，酒駕所佔的比例為何\n",
    "\n",
    "# 讀入台中市車禍事件\n",
    "df = pd.read_csv(\"http://datacenter.taichung.gov.tw/swagger/OpenData/d9cad116-1255-4e97-94fc-d8dc58cd9ff9\",encoding='utf-8');\n",
    "# 先統計4個時段發生車禍的次數\n",
    "t = df['發生時間'].values\n",
    "totalT = [0,0,0,0]\n",
    "for i in t:\n",
    "    te = str(i)[7:11]\n",
    "    if((te>='0000') & (te<'0600')):\n",
    "        totalT[0] += 1\n",
    "    elif((te>='0600') & (te<'1200')):\n",
    "        totalT[1] += 1\n",
    "    elif((te>='1200') & (te<'1800')):\n",
    "        totalT[2] += 1\n",
    "    else:\n",
    "        totalT[3] += 1\n",
    "        \n",
    "# 判斷是否為酒架事件\n",
    "df2 = df[df['酒駕案件']=='是']  \n",
    "\n",
    "t = df2['發生時間'].values\n",
    "timeT = [0,0,0,0]  # 用來存四個時間區段發生酒駕的次數\n",
    "# 判斷酒架事件的時間點\n",
    "for i in t:\n",
    "    te = str(i)[7:11]\n",
    "    if((te>='0000') & (te<'0600')):\n",
    "        timeT[0] += 1\n",
    "    elif((te>='0600') & (te<'1200')):\n",
    "        timeT[1] += 1\n",
    "    elif((te>='1200') & (te<'1800')):\n",
    "        timeT[2] += 1\n",
    "    else:\n",
    "        timeT[3] += 1\n",
    "        \n",
    "x = ['00:00~06:00','06:00~12:00','12:00~18:00','18:00~24:00']\n",
    "plt.bar(x,np.array(timeT)/np.array(totalT)*100);\n",
    "plt.title('酒駕和時段的關係',fontproperties=myf);\n",
    "plt.xlabel('時段',fontproperties=myf);\n",
    "plt.ylabel('酒駕佔車禍的比例(%)',fontproperties=myf);"
   ]
  },
  {
   "cell_type": "code",
   "execution_count": null,
   "metadata": {},
   "outputs": [],
   "source": []
  },
  {
   "cell_type": "code",
   "execution_count": null,
   "metadata": {},
   "outputs": [],
   "source": []
  }
 ],
 "metadata": {
  "kernelspec": {
   "display_name": "Python 3",
   "language": "python",
   "name": "python3"
  },
  "language_info": {
   "codemirror_mode": {
    "name": "ipython",
    "version": 3
   },
   "file_extension": ".py",
   "mimetype": "text/x-python",
   "name": "python",
   "nbconvert_exporter": "python",
   "pygments_lexer": "ipython3",
   "version": "3.7.0"
  }
 },
 "nbformat": 4,
 "nbformat_minor": 2
}
