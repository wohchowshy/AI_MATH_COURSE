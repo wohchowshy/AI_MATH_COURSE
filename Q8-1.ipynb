{
 "cells": [
  {
   "cell_type": "markdown",
   "metadata": {},
   "source": [
    "## Functional API使用"
   ]
  },
  {
   "cell_type": "markdown",
   "metadata": {},
   "source": [
    "## 1. Import"
   ]
  },
  {
   "cell_type": "code",
   "execution_count": 10,
   "metadata": {},
   "outputs": [],
   "source": [
    "%matplotlib inline\n",
    "\n",
    "import matplotlib.pyplot as plt\n",
    "import numpy as np\n",
    "import pandas as pd\n",
    "from keras.models import Model\n",
    "from keras.layers import Input\n",
    "from keras.datasets import mnist\n",
    "from keras.layers import Dense, Activation, concatenate, add\n",
    "from keras.optimizers import SGD, Adadelta\n",
    "from keras.utils import np_utils\n",
    "from ipywidgets import interact_manual"
   ]
  },
  {
   "cell_type": "markdown",
   "metadata": {},
   "source": [
    "## 2.讀入MNIST數據"
   ]
  },
  {
   "cell_type": "code",
   "execution_count": 3,
   "metadata": {},
   "outputs": [],
   "source": [
    "# read mnist dataset\n",
    "(x_train, y_train), (x_test, y_test) = mnist.load_data()\n",
    "\n",
    "# reshape to fit the shape of input\n",
    "x_train = x_train.reshape(x_train.shape[0], x_train.shape[1]*x_train.shape[2])\n",
    "x_test = x_test.reshape(x_test.shape[0], x_test.shape[1]*x_test.shape[2])\n",
    "\n",
    "# transform string type into int type [0,9]\n",
    "y_train = np_utils.to_categorical(y_train, 10)\n",
    "y_test = np_utils.to_categorical(y_test, 10)"
   ]
  },
  {
   "cell_type": "markdown",
   "metadata": {},
   "source": [
    "## 3.Functional API架設NN\n",
    "**以下為NN架構**\n",
    "\n",
    "![flowchart](Q8-1Data/flowchart.png)"
   ]
  },
  {
   "cell_type": "code",
   "execution_count": 4,
   "metadata": {},
   "outputs": [
    {
     "name": "stdout",
     "output_type": "stream",
     "text": [
      "WARNING:tensorflow:From /home/yizzy/.local/lib/python3.6/site-packages/tensorflow/python/framework/op_def_library.py:263: colocate_with (from tensorflow.python.framework.ops) is deprecated and will be removed in a future version.\n",
      "Instructions for updating:\n",
      "Colocations handled automatically by placer.\n",
      "__________________________________________________________________________________________________\n",
      "Layer (type)                    Output Shape         Param #     Connected to                     \n",
      "==================================================================================================\n",
      "input_1 (InputLayer)            (None, 784)          0                                            \n",
      "__________________________________________________________________________________________________\n",
      "dense_1 (Dense)                 (None, 100)          78500       input_1[0][0]                    \n",
      "__________________________________________________________________________________________________\n",
      "dense_2 (Dense)                 (None, 100)          78500       input_1[0][0]                    \n",
      "__________________________________________________________________________________________________\n",
      "dense_3 (Dense)                 (None, 75)           7575        dense_1[0][0]                    \n",
      "__________________________________________________________________________________________________\n",
      "dense_4 (Dense)                 (None, 25)           2525        dense_2[0][0]                    \n",
      "__________________________________________________________________________________________________\n",
      "concatenate_1 (Concatenate)     (None, 100)          0           dense_3[0][0]                    \n",
      "                                                                 dense_4[0][0]                    \n",
      "__________________________________________________________________________________________________\n",
      "dense_5 (Dense)                 (None, 40)           3040        dense_3[0][0]                    \n",
      "__________________________________________________________________________________________________\n",
      "dense_6 (Dense)                 (None, 10)           260         dense_4[0][0]                    \n",
      "__________________________________________________________________________________________________\n",
      "dense_7 (Dense)                 (None, 30)           3030        concatenate_1[0][0]              \n",
      "__________________________________________________________________________________________________\n",
      "concatenate_2 (Concatenate)     (None, 80)           0           dense_5[0][0]                    \n",
      "                                                                 dense_6[0][0]                    \n",
      "                                                                 dense_7[0][0]                    \n",
      "__________________________________________________________________________________________________\n",
      "dense_8 (Dense)                 (None, 20)           2020        concatenate_1[0][0]              \n",
      "__________________________________________________________________________________________________\n",
      "dense_9 (Dense)                 (None, 90)           7290        concatenate_2[0][0]              \n",
      "__________________________________________________________________________________________________\n",
      "concatenate_3 (Concatenate)     (None, 50)           0           dense_7[0][0]                    \n",
      "                                                                 dense_8[0][0]                    \n",
      "__________________________________________________________________________________________________\n",
      "dense_11 (Dense)                (None, 30)           2730        dense_9[0][0]                    \n",
      "__________________________________________________________________________________________________\n",
      "dense_12 (Dense)                (None, 20)           1820        dense_9[0][0]                    \n",
      "__________________________________________________________________________________________________\n",
      "dense_13 (Dense)                (None, 10)           910         dense_9[0][0]                    \n",
      "__________________________________________________________________________________________________\n",
      "dense_10 (Dense)                (None, 20)           1020        concatenate_3[0][0]              \n",
      "__________________________________________________________________________________________________\n",
      "concatenate_4 (Concatenate)     (None, 60)           0           dense_11[0][0]                   \n",
      "                                                                 dense_12[0][0]                   \n",
      "                                                                 dense_13[0][0]                   \n",
      "__________________________________________________________________________________________________\n",
      "concatenate_5 (Concatenate)     (None, 80)           0           dense_11[0][0]                   \n",
      "                                                                 dense_12[0][0]                   \n",
      "                                                                 dense_13[0][0]                   \n",
      "                                                                 dense_10[0][0]                   \n",
      "__________________________________________________________________________________________________\n",
      "dense_14 (Dense)                (None, 10)           610         concatenate_4[0][0]              \n",
      "__________________________________________________________________________________________________\n",
      "dense_15 (Dense)                (None, 10)           810         concatenate_5[0][0]              \n",
      "__________________________________________________________________________________________________\n",
      "concatenate_6 (Concatenate)     (None, 20)           0           dense_14[0][0]                   \n",
      "                                                                 dense_15[0][0]                   \n",
      "__________________________________________________________________________________________________\n",
      "dense_16 (Dense)                (None, 10)           210         concatenate_6[0][0]              \n",
      "==================================================================================================\n",
      "Total params: 190,850\n",
      "Trainable params: 190,850\n",
      "Non-trainable params: 0\n",
      "__________________________________________________________________________________________________\n"
     ]
    }
   ],
   "source": [
    "# construct nn structure\n",
    "fc_1_1 = Dense(100, activation='relu')\n",
    "fc_1_2 = Dense(100, activation='relu')\n",
    "\n",
    "fc_2_1 = Dense(75, activation='relu')\n",
    "fc_2_2 = Dense(25, activation='relu')\n",
    "\n",
    "fc_3_1 = Dense(40, activation='relu')\n",
    "fc_3_2 = Dense(10, activation='relu')\n",
    "fc_3_3 = Dense(30, activation='relu')\n",
    "fc_3_4 = Dense(20, activation='relu')\n",
    "\n",
    "fc_4_1 = Dense(90, activation='relu')\n",
    "fc_4_2 = Dense(20, activation='relu')\n",
    "\n",
    "fc_5_1 = Dense(30, activation='relu')\n",
    "fc_5_2 = Dense(20, activation='relu')\n",
    "fc_5_3 = Dense(10, activation='relu')\n",
    "\n",
    "fc_6_1 = Dense(10, activation='relu')\n",
    "fc_6_2 = Dense(10, activation='relu')\n",
    "\n",
    "fc_out = Dense(10, activation='softmax')\n",
    "\n",
    "# set Input layer\n",
    "x = Input(shape=(784,))\n",
    "\n",
    "# connect each layer using Functional API\n",
    "h_1_1 = fc_1_1(x)\n",
    "h_1_2 = fc_1_2(x)\n",
    "\n",
    "h_2_1 = fc_2_1(h_1_1)\n",
    "h_2_2 = fc_2_2(h_1_2)\n",
    "h_2_cat = concatenate([h_2_1, h_2_2])\n",
    "\n",
    "h_3_1 = fc_3_1(h_2_1)\n",
    "h_3_2 = fc_3_2(h_2_2)\n",
    "h_3_3 = fc_3_3(h_2_cat)\n",
    "h_3_4 = fc_3_4(h_2_cat)\n",
    "h_3_cat_1 = concatenate([h_3_1, h_3_2, h_3_3])\n",
    "h_3_cat_2 = concatenate([h_3_3, h_3_4])\n",
    "\n",
    "h_4_1 = fc_4_1(h_3_cat_1)\n",
    "h_4_2 = fc_4_2(h_3_cat_2)\n",
    "\n",
    "h_5_1 = fc_5_1(h_4_1)\n",
    "h_5_2 = fc_5_2(h_4_1)\n",
    "h_5_3 = fc_5_3(h_4_1)\n",
    "h_5_cat_1 = concatenate([h_5_1, h_5_2, h_5_3])\n",
    "h_5_cat_2 = concatenate([h_5_1, h_5_2, h_5_3, h_4_2])\n",
    "\n",
    "h_6_1 = fc_6_1(h_5_cat_1)\n",
    "h_6_2 = fc_6_2(h_5_cat_2)\n",
    "h_6_cat = concatenate([h_6_1, h_6_2])\n",
    "\n",
    "y = fc_out(h_6_cat)\n",
    "\n",
    "# merge to a model\n",
    "model = Model(x, y)\n",
    "model.summary()"
   ]
  },
  {
   "cell_type": "markdown",
   "metadata": {},
   "source": [
    "## 4.設定並且訓練model\n",
    "**loss function:** categorical_crossentropy\n",
    "\n",
    "**optimizer:** Adadelta"
   ]
  },
  {
   "cell_type": "code",
   "execution_count": 7,
   "metadata": {},
   "outputs": [
    {
     "name": "stdout",
     "output_type": "stream",
     "text": [
      "Train on 60000 samples, validate on 10000 samples\n",
      "Epoch 1/50\n",
      "60000/60000 [==============================] - 4s 63us/step - loss: 0.0320 - acc: 0.9939 - val_loss: 0.2204 - val_acc: 0.9747\n",
      "Epoch 2/50\n",
      "60000/60000 [==============================] - 3s 48us/step - loss: 0.0156 - acc: 0.9967 - val_loss: 0.1931 - val_acc: 0.9775\n",
      "Epoch 3/50\n",
      "60000/60000 [==============================] - 3s 49us/step - loss: 0.0115 - acc: 0.9971 - val_loss: 0.2043 - val_acc: 0.9748\n",
      "Epoch 4/50\n",
      "60000/60000 [==============================] - 3s 47us/step - loss: 0.0108 - acc: 0.9974 - val_loss: 0.2139 - val_acc: 0.9761\n",
      "Epoch 5/50\n",
      "60000/60000 [==============================] - 3s 46us/step - loss: 0.0130 - acc: 0.9970 - val_loss: 0.2061 - val_acc: 0.9771\n",
      "Epoch 6/50\n",
      "60000/60000 [==============================] - 3s 46us/step - loss: 0.0112 - acc: 0.9972 - val_loss: 0.2494 - val_acc: 0.9740\n",
      "Epoch 7/50\n",
      "60000/60000 [==============================] - 3s 46us/step - loss: 0.0139 - acc: 0.9966 - val_loss: 0.2241 - val_acc: 0.9739\n",
      "Epoch 8/50\n",
      "60000/60000 [==============================] - 3s 46us/step - loss: 0.0117 - acc: 0.9973 - val_loss: 0.2294 - val_acc: 0.9763\n",
      "Epoch 9/50\n",
      "60000/60000 [==============================] - 3s 46us/step - loss: 0.0152 - acc: 0.9969 - val_loss: 0.2132 - val_acc: 0.9766\n",
      "Epoch 10/50\n",
      "60000/60000 [==============================] - 3s 46us/step - loss: 0.0117 - acc: 0.9974 - val_loss: 0.2758 - val_acc: 0.9713\n",
      "Epoch 11/50\n",
      "60000/60000 [==============================] - 3s 46us/step - loss: 0.0105 - acc: 0.9974 - val_loss: 0.2362 - val_acc: 0.9736\n",
      "Epoch 12/50\n",
      "60000/60000 [==============================] - 3s 47us/step - loss: 0.0097 - acc: 0.9977 - val_loss: 0.2080 - val_acc: 0.9768\n",
      "Epoch 13/50\n",
      "60000/60000 [==============================] - 3s 46us/step - loss: 0.0102 - acc: 0.9976 - val_loss: 0.2367 - val_acc: 0.9765\n",
      "Epoch 14/50\n",
      "60000/60000 [==============================] - 3s 46us/step - loss: 0.0107 - acc: 0.9974 - val_loss: 0.2341 - val_acc: 0.9744\n",
      "Epoch 15/50\n",
      "60000/60000 [==============================] - 3s 46us/step - loss: 0.0115 - acc: 0.9971 - val_loss: 0.2563 - val_acc: 0.9751\n",
      "Epoch 16/50\n",
      "60000/60000 [==============================] - 3s 46us/step - loss: 0.0103 - acc: 0.9976 - val_loss: 0.2246 - val_acc: 0.9767\n",
      "Epoch 17/50\n",
      "60000/60000 [==============================] - 3s 46us/step - loss: 0.0117 - acc: 0.9975 - val_loss: 0.2444 - val_acc: 0.9730\n",
      "Epoch 18/50\n",
      "60000/60000 [==============================] - 3s 50us/step - loss: 0.0095 - acc: 0.9978 - val_loss: 0.2228 - val_acc: 0.9760\n",
      "Epoch 19/50\n",
      "60000/60000 [==============================] - 3s 48us/step - loss: 0.0076 - acc: 0.9982 - val_loss: 0.2911 - val_acc: 0.9715\n",
      "Epoch 20/50\n",
      "60000/60000 [==============================] - 3s 54us/step - loss: 0.0116 - acc: 0.9976 - val_loss: 0.2307 - val_acc: 0.9739\n",
      "Epoch 21/50\n",
      "60000/60000 [==============================] - 3s 49us/step - loss: 0.0083 - acc: 0.9981 - val_loss: 0.2285 - val_acc: 0.9758\n",
      "Epoch 22/50\n",
      "60000/60000 [==============================] - 3s 47us/step - loss: 0.0102 - acc: 0.9976 - val_loss: 0.2387 - val_acc: 0.9764\n",
      "Epoch 23/50\n",
      "60000/60000 [==============================] - 3s 48us/step - loss: 0.0097 - acc: 0.9982 - val_loss: 0.2519 - val_acc: 0.9738\n",
      "Epoch 24/50\n",
      "60000/60000 [==============================] - 3s 50us/step - loss: 0.0141 - acc: 0.9973 - val_loss: 0.2155 - val_acc: 0.9771\n",
      "Epoch 25/50\n",
      "60000/60000 [==============================] - 3s 47us/step - loss: 0.0100 - acc: 0.9980 - val_loss: 0.2196 - val_acc: 0.9764\n",
      "Epoch 26/50\n",
      "60000/60000 [==============================] - 3s 47us/step - loss: 0.0090 - acc: 0.9981 - val_loss: 0.2271 - val_acc: 0.9774\n",
      "Epoch 27/50\n",
      "60000/60000 [==============================] - 3s 47us/step - loss: 0.0113 - acc: 0.9977 - val_loss: 0.2253 - val_acc: 0.9773\n",
      "Epoch 28/50\n",
      "60000/60000 [==============================] - 3s 47us/step - loss: 0.0116 - acc: 0.9977 - val_loss: 0.2294 - val_acc: 0.9783\n",
      "Epoch 29/50\n",
      "60000/60000 [==============================] - 3s 47us/step - loss: 0.0093 - acc: 0.9980 - val_loss: 0.2361 - val_acc: 0.9768\n",
      "Epoch 30/50\n",
      "60000/60000 [==============================] - 3s 49us/step - loss: 0.0074 - acc: 0.9982 - val_loss: 0.2707 - val_acc: 0.9715\n",
      "Epoch 31/50\n",
      "60000/60000 [==============================] - 3s 49us/step - loss: 0.0110 - acc: 0.9980 - val_loss: 0.2111 - val_acc: 0.9784\n",
      "Epoch 32/50\n",
      "60000/60000 [==============================] - 3s 49us/step - loss: 0.0088 - acc: 0.9982 - val_loss: 0.2725 - val_acc: 0.9736\n",
      "Epoch 33/50\n",
      "60000/60000 [==============================] - 3s 51us/step - loss: 0.0104 - acc: 0.9980 - val_loss: 0.2440 - val_acc: 0.9760\n",
      "Epoch 34/50\n",
      "60000/60000 [==============================] - 3s 49us/step - loss: 0.0072 - acc: 0.9983 - val_loss: 0.2945 - val_acc: 0.9738\n",
      "Epoch 35/50\n",
      "60000/60000 [==============================] - 3s 46us/step - loss: 0.0092 - acc: 0.9981 - val_loss: 0.2260 - val_acc: 0.9772\n",
      "Epoch 36/50\n",
      "60000/60000 [==============================] - 3s 46us/step - loss: 0.0072 - acc: 0.9983 - val_loss: 0.2325 - val_acc: 0.9781\n",
      "Epoch 37/50\n",
      "60000/60000 [==============================] - 3s 46us/step - loss: 0.0096 - acc: 0.9981 - val_loss: 0.2376 - val_acc: 0.9761\n",
      "Epoch 38/50\n",
      "60000/60000 [==============================] - 3s 54us/step - loss: 0.0114 - acc: 0.9980 - val_loss: 0.2211 - val_acc: 0.9775\n",
      "Epoch 39/50\n",
      "60000/60000 [==============================] - 3s 55us/step - loss: 0.0068 - acc: 0.9985 - val_loss: 0.2228 - val_acc: 0.9780\n",
      "Epoch 40/50\n",
      "60000/60000 [==============================] - 3s 48us/step - loss: 0.0121 - acc: 0.9980 - val_loss: 0.2307 - val_acc: 0.9784\n",
      "Epoch 41/50\n",
      "60000/60000 [==============================] - 3s 54us/step - loss: 0.0090 - acc: 0.9983 - val_loss: 0.2938 - val_acc: 0.9712\n",
      "Epoch 42/50\n",
      "60000/60000 [==============================] - 3s 56us/step - loss: 0.0104 - acc: 0.9983 - val_loss: 0.3342 - val_acc: 0.9692\n",
      "Epoch 43/50\n",
      "60000/60000 [==============================] - 4s 60us/step - loss: 0.0108 - acc: 0.9980 - val_loss: 0.2302 - val_acc: 0.9783\n",
      "Epoch 44/50\n",
      "60000/60000 [==============================] - 4s 62us/step - loss: 0.0085 - acc: 0.9984 - val_loss: 0.2307 - val_acc: 0.9784\n",
      "Epoch 45/50\n",
      "60000/60000 [==============================] - 4s 61us/step - loss: 0.0109 - acc: 0.9980 - val_loss: 0.2475 - val_acc: 0.9757\n",
      "Epoch 46/50\n",
      "60000/60000 [==============================] - 3s 50us/step - loss: 0.0096 - acc: 0.9979 - val_loss: 0.2380 - val_acc: 0.9759\n",
      "Epoch 47/50\n",
      "60000/60000 [==============================] - 3s 53us/step - loss: 0.0072 - acc: 0.9985 - val_loss: 0.2467 - val_acc: 0.9778\n",
      "Epoch 48/50\n",
      "60000/60000 [==============================] - 3s 48us/step - loss: 0.0112 - acc: 0.9983 - val_loss: 0.2881 - val_acc: 0.9746\n",
      "Epoch 49/50\n",
      "60000/60000 [==============================] - 3s 51us/step - loss: 0.0095 - acc: 0.9983 - val_loss: 0.2440 - val_acc: 0.9779\n",
      "Epoch 50/50\n",
      "60000/60000 [==============================] - 3s 52us/step - loss: 0.0096 - acc: 0.9982 - val_loss: 0.2323 - val_acc: 0.9769\n"
     ]
    }
   ],
   "source": [
    "# compile model\n",
    "model.compile(loss = 'categorical_crossentropy', \n",
    "              optimizer=Adadelta(lr=1.0),\n",
    "              metrics=['acc'])\n",
    "model_epo50 = model.fit(x_train, y_train, batch_size = 256, \n",
    "                        epochs = 50, validation_data=(x_test, y_test) )"
   ]
  },
  {
   "cell_type": "markdown",
   "metadata": {},
   "source": [
    "## 5.畫出training data的historical accuracy"
   ]
  },
  {
   "cell_type": "code",
   "execution_count": 8,
   "metadata": {},
   "outputs": [
    {
     "data": {
      "text/plain": [
       "Text(0, 0.5, 'accuracy')"
      ]
     },
     "execution_count": 8,
     "metadata": {},
     "output_type": "execute_result"
    },
    {
     "data": {
      "image/png": "[encoded data removed]",
      "text/plain": [
       "<Figure size 432x288 with 1 Axes>"
      ]
     },
     "metadata": {},
     "output_type": "display_data"
    }
   ],
   "source": [
    "plt.plot(model_epo50.history['acc'])\n",
    "plt.title('model training accuracy')\n",
    "plt.xlabel('epoch')\n",
    "plt.ylabel('accuracy')"
   ]
  },
  {
   "cell_type": "markdown",
   "metadata": {},
   "source": [
    "## 6.計算data的準確率\n",
    "\n",
    "| | Training Data | Testing Data |\n",
    "| --- | --- | --- |\n",
    "| accuracy | 99.85% | 97.69% |\n",
    "| loss | 0.64% | 23.23% |"
   ]
  },
  {
   "cell_type": "code",
   "execution_count": 30,
   "metadata": {},
   "outputs": [
    {
     "name": "stdout",
     "output_type": "stream",
     "text": [
      "60000/60000 [==============================] - 1s 12us/step\n",
      "10000/10000 [==============================] - 0s 13us/step\n",
      "train data loss:  0.006405303720384836\n",
      "training data accuracy:  0.9985499978065491\n",
      "testing data loss:  0.23234190046787262\n",
      "testing data accuracy:  0.9768999814987183\n"
     ]
    }
   ],
   "source": [
    "train_score = model.evaluate(x_train, y_train, batch_size=20000)\n",
    "test_score = model.evaluate(x_test, y_test, batch_size=10000)\n",
    "print('train data loss: ',train_score[0])\n",
    "print('training data accuracy: ',train_score[1])\n",
    "print('testing data loss: ',test_score[0])\n",
    "print('testing data accuracy: ',test_score[1])"
   ]
  },
  {
   "cell_type": "markdown",
   "metadata": {},
   "source": [
    "## 7.互動式元件，測試test data"
   ]
  },
  {
   "cell_type": "code",
   "execution_count": 32,
   "metadata": {},
   "outputs": [
    {
     "name": "stderr",
     "output_type": "stream",
     "text": [
      "Widget Javascript not detected.  It may not be installed or enabled properly.\n"
     ]
    },
    {
     "data": {
      "application/vnd.jupyter.widget-view+json": {
       "model_id": "a1db2262de824d6d8fa20e3107b7e056"
      }
     },
     "metadata": {},
     "output_type": "display_data"
    },
    {
     "data": {
      "image/png": "[encoded data removed]",
      "text/plain": [
       "<Figure size 432x288 with 1 Axes>"
      ]
     },
     "metadata": {},
     "output_type": "display_data"
    }
   ],
   "source": [
    "pred = model.predict(x_test)\n",
    "\n",
    "def test(num):\n",
    "    plt.imshow(x_test[num].reshape(28,28), cmap='Greys')\n",
    "    print('NN predict this picture is number %d'%(np.argmax(pred[num])))\n",
    "\n",
    "interact_manual(test, num=(0,9999));"
   ]
  },
  {
   "cell_type": "markdown",
   "metadata": {},
   "source": [
    "---\n",
    "把model存下來\n",
    "==="
   ]
  },
  {
   "cell_type": "code",
   "execution_count": 31,
   "metadata": {},
   "outputs": [],
   "source": [
    "model_json = model.to_json()\n",
    "open('Q8-1Data/mnist_model.json','w').write(model_json)\n",
    "model.save_weights('Q8-1Data/mnist_model_weights.h5')"
   ]
  },
  {
   "cell_type": "code",
   "execution_count": null,
   "metadata": {},
   "outputs": [],
   "source": []
  }
 ],
 "metadata": {
  "kernelspec": {
   "display_name": "Python 3",
   "language": "python",
   "name": "python3"
  },
  "language_info": {
   "codemirror_mode": {
    "name": "ipython",
    "version": 3
   },
   "file_extension": ".py",
   "mimetype": "text/x-python",
   "name": "python",
   "nbconvert_exporter": "python",
   "pygments_lexer": "ipython3",
   "version": "3.6.7"
  }
 },
 "nbformat": 4,
 "nbformat_minor": 2
}
