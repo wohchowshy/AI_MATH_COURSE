{
 "cells": [
  {
   "cell_type": "markdown",
   "metadata": {},
   "source": [
    "# 用fully connected NN做mnist分類\n"
   ]
  },
  {
   "cell_type": "markdown",
   "metadata": {},
   "source": [
    "---\n",
    "## Import"
   ]
  },
  {
   "cell_type": "code",
   "execution_count": 1,
   "metadata": {},
   "outputs": [
    {
     "name": "stderr",
     "output_type": "stream",
     "text": [
      "Using TensorFlow backend.\n"
     ]
    }
   ],
   "source": [
    "%matplotlib inline\n",
    "import numpy as np\n",
    "import matplotlib.pyplot as plt\n",
    "from ipywidgets import interact_manual\n",
    "from keras.datasets import mnist\n",
    "from keras.utils import np_utils\n",
    "from keras.models import Sequential\n",
    "from keras.layers import Dense, Activation\n",
    "from keras.optimizers import SGD\n",
    "from keras.optimizers import Adagrad\n",
    "from keras.optimizers import Adadelta"
   ]
  },
  {
   "cell_type": "markdown",
   "metadata": {},
   "source": [
    "---\n",
    "## 處理載入的數據"
   ]
  },
  {
   "cell_type": "code",
   "execution_count": null,
   "metadata": {},
   "outputs": [],
   "source": [
    "# shape of x_train = [60000,28,28] , shape of x_test = [10000,28,28]\n",
    "(x_train, y_train), (x_test, y_test) = mnist.load_data()\n",
    "\n",
    "# reshape x_train to [60000,784] , reshape x_test to [10000,784]\n",
    "x_train = x_train.reshape(x_train.shape[0],x_train.shape[1]*x_train.shape[2])\n",
    "x_test = x_test.reshape(x_test.shape[0],x_test.shape[1]*x_test.shape[2])\n",
    "\n",
    "# transform label into 1-hot encoding\n",
    "y_train = np_utils.to_categorical(y_train, 10)\n",
    "y_test = np_utils.to_categorical(y_test, 10)\n"
   ]
  },
  {
   "cell_type": "markdown",
   "metadata": {},
   "source": [
    "---\n",
    "## 搭建NN結構：\n",
    "**Activation function : relu (最後一層用softmax)**\n",
    "\n",
    "**Optimizer : Adedelta (建議保留learning rate不要更動)**\n",
    "\n",
    "**Loss function : mean square error**"
   ]
  },
  {
   "cell_type": "code",
   "execution_count": null,
   "metadata": {},
   "outputs": [],
   "source": [
    "# Define NN frame\n",
    "# using relu activation and Adadelta optimizer\n",
    "def frame_construction(layer=[], los='mse', activ='relu', lring=1.0):\n",
    "    model = Sequential()\n",
    "    # input layer to layer 1\n",
    "    model.add(Dense(layer[0], input_dim=784))\n",
    "    model.add(Activation(activ))\n",
    "    # hidden layer\n",
    "    for i in range(1, len(layer)):\n",
    "        model.add(Dense(layer[i]))\n",
    "        model.add(Activation(activ))\n",
    "    # output layer\n",
    "    model.add(Dense(10))\n",
    "    model.add(Activation('softmax'))\n",
    "    model.compile(loss=los, optimizer=Adadelta(lr=lring), metrics=['accuracy'])\n",
    "    return model"
   ]
  },
  {
   "cell_type": "markdown",
   "metadata": {},
   "source": [
    "---\n",
    "## 定義函數來訓練模型\n",
    "**epoch = 20，batch size = 32**"
   ]
  },
  {
   "cell_type": "code",
   "execution_count": null,
   "metadata": {},
   "outputs": [],
   "source": [
    "# training model\n",
    "def train_model(model, bat=32, epo=20):\n",
    "    model.fit(x_train, y_train, batch_size=bat, epochs=epo)\n",
    "    return model"
   ]
  },
  {
   "cell_type": "markdown",
   "metadata": {},
   "source": [
    "---\n",
    "## 定義函數來預測testing data"
   ]
  },
  {
   "cell_type": "code",
   "execution_count": null,
   "metadata": {},
   "outputs": [],
   "source": [
    "def prediction(model):\n",
    "    predict = model.predict_classes(x_test)\n",
    "    return predict"
   ]
  },
  {
   "cell_type": "markdown",
   "metadata": {},
   "source": [
    "---\n",
    "## 嘗試5層hidden layer, 分別有[ 5, 5, 5, 5, 5 ]個cell\n",
    "## 最終準確率為0.8453"
   ]
  },
  {
   "cell_type": "code",
   "execution_count": 4,
   "metadata": {},
   "outputs": [
    {
     "name": "stdout",
     "output_type": "stream",
     "text": [
      "Epoch 1/20\n",
      "60000/60000 [==============================] - 19s 310us/step - loss: 0.0724 - acc: 0.3402\n",
      "Epoch 2/20\n",
      "60000/60000 [==============================] - 18s 296us/step - loss: 0.0536 - acc: 0.5496\n",
      "Epoch 3/20\n",
      "60000/60000 [==============================] - 19s 318us/step - loss: 0.0436 - acc: 0.6743\n",
      "Epoch 4/20\n",
      "60000/60000 [==============================] - 17s 289us/step - loss: 0.0395 - acc: 0.7233\n",
      "Epoch 5/20\n",
      "60000/60000 [==============================] - 17s 282us/step - loss: 0.0370 - acc: 0.7450\n",
      "Epoch 6/20\n",
      "60000/60000 [==============================] - 19s 314us/step - loss: 0.0355 - acc: 0.7632\n",
      "Epoch 7/20\n",
      "60000/60000 [==============================] - 16s 274us/step - loss: 0.0336 - acc: 0.7809\n",
      "Epoch 8/20\n",
      "60000/60000 [==============================] - 16s 272us/step - loss: 0.0316 - acc: 0.7965\n",
      "Epoch 9/20\n",
      "60000/60000 [==============================] - 16s 270us/step - loss: 0.0303 - acc: 0.8050\n",
      "Epoch 10/20\n",
      "60000/60000 [==============================] - 16s 275us/step - loss: 0.0288 - acc: 0.8127\n",
      "Epoch 11/20\n",
      "60000/60000 [==============================] - 16s 275us/step - loss: 0.0282 - acc: 0.8138\n",
      "Epoch 12/20\n",
      "60000/60000 [==============================] - 17s 282us/step - loss: 0.0276 - acc: 0.8173\n",
      "Epoch 13/20\n",
      "60000/60000 [==============================] - 17s 278us/step - loss: 0.0272 - acc: 0.8213\n",
      "Epoch 14/20\n",
      "60000/60000 [==============================] - 16s 272us/step - loss: 0.0267 - acc: 0.8272\n",
      "Epoch 15/20\n",
      "60000/60000 [==============================] - 17s 276us/step - loss: 0.0263 - acc: 0.8301\n",
      "Epoch 16/20\n",
      "60000/60000 [==============================] - 16s 273us/step - loss: 0.0258 - acc: 0.8359\n",
      "Epoch 17/20\n",
      "60000/60000 [==============================] - 16s 273us/step - loss: 0.0255 - acc: 0.8381\n",
      "Epoch 18/20\n",
      "60000/60000 [==============================] - 17s 275us/step - loss: 0.0251 - acc: 0.8407\n",
      "Epoch 19/20\n",
      "60000/60000 [==============================] - 16s 272us/step - loss: 0.0247 - acc: 0.8422\n",
      "Epoch 20/20\n",
      "60000/60000 [==============================] - ETA: 0s - loss: 0.0244 - acc: 0.845 - 16s 273us/step - loss: 0.0244 - acc: 0.8453\n"
     ]
    }
   ],
   "source": [
    "# main function\n",
    "md = frame_construction(layer=[5,5,5,5,5])\n",
    "md = train_model(md)\n",
    "pred = prediction(md)"
   ]
  },
  {
   "cell_type": "markdown",
   "metadata": {},
   "source": [
    "---\n",
    "## 7層, 分別有[20,28,36,28,36,28,20]個cell\n",
    "## 最終準確率為0.9691"
   ]
  },
  {
   "cell_type": "code",
   "execution_count": 5,
   "metadata": {},
   "outputs": [
    {
     "name": "stdout",
     "output_type": "stream",
     "text": [
      "Epoch 1/20\n",
      "60000/60000 [==============================] - 20s 329us/step - loss: 0.0317 - acc: 0.7750\n",
      "Epoch 2/20\n",
      "60000/60000 [==============================] - 20s 336us/step - loss: 0.0136 - acc: 0.9135\n",
      "Epoch 3/20\n",
      "60000/60000 [==============================] - 18s 304us/step - loss: 0.0113 - acc: 0.9282\n",
      "Epoch 4/20\n",
      "60000/60000 [==============================] - 18s 297us/step - loss: 0.0100 - acc: 0.9376\n",
      "Epoch 5/20\n",
      "60000/60000 [==============================] - 18s 304us/step - loss: 0.0092 - acc: 0.9418\n",
      "Epoch 6/20\n",
      "60000/60000 [==============================] - 18s 300us/step - loss: 0.0086 - acc: 0.9462\n",
      "Epoch 7/20\n",
      "60000/60000 [==============================] - 18s 300us/step - loss: 0.0080 - acc: 0.9498\n",
      "Epoch 8/20\n",
      "60000/60000 [==============================] - 19s 318us/step - loss: 0.0076 - acc: 0.9528\n",
      "Epoch 9/20\n",
      "60000/60000 [==============================] - 18s 305us/step - loss: 0.0072 - acc: 0.9551\n",
      "Epoch 10/20\n",
      "60000/60000 [==============================] - 18s 304us/step - loss: 0.0069 - acc: 0.9568\n",
      "Epoch 11/20\n",
      "60000/60000 [==============================] - 18s 305us/step - loss: 0.0066 - acc: 0.9582\n",
      "Epoch 12/20\n",
      "60000/60000 [==============================] - 19s 312us/step - loss: 0.0064 - acc: 0.9604\n",
      "Epoch 13/20\n",
      "60000/60000 [==============================] - 18s 306us/step - loss: 0.0061 - acc: 0.9619\n",
      "Epoch 14/20\n",
      "60000/60000 [==============================] - 19s 313us/step - loss: 0.0059 - acc: 0.9640\n",
      "Epoch 15/20\n",
      "60000/60000 [==============================] - 19s 310us/step - loss: 0.0058 - acc: 0.9640\n",
      "Epoch 16/20\n",
      "60000/60000 [==============================] - 20s 327us/step - loss: 0.0056 - acc: 0.9652\n",
      "Epoch 17/20\n",
      "60000/60000 [==============================] - 18s 304us/step - loss: 0.0054 - acc: 0.9665\n",
      "Epoch 18/20\n",
      "60000/60000 [==============================] - 18s 305us/step - loss: 0.0053 - acc: 0.9673\n",
      "Epoch 19/20\n",
      "60000/60000 [==============================] - 18s 305us/step - loss: 0.0052 - acc: 0.9682\n",
      "Epoch 20/20\n",
      "60000/60000 [==============================] - 18s 307us/step - loss: 0.0050 - acc: 0.9691\n"
     ]
    }
   ],
   "source": [
    "md2 = frame_construction(layer=[20,28,36,28,36,28,20])\n",
    "md2 = train_model(md2)\n",
    "pred2 = prediction(md2)"
   ]
  },
  {
   "cell_type": "markdown",
   "metadata": {},
   "source": [
    "---\n",
    "## 10層, 分別有[80,91,91,40,20,73,99,90,69,10]個cell\n",
    "## 最終準確率為0.9793"
   ]
  },
  {
   "cell_type": "code",
   "execution_count": 6,
   "metadata": {},
   "outputs": [
    {
     "name": "stdout",
     "output_type": "stream",
     "text": [
      "Epoch 1/20\n",
      "60000/60000 [==============================] - 26s 425us/step - loss: 0.0395 - acc: 0.6912\n",
      "Epoch 2/20\n",
      "60000/60000 [==============================] - 24s 407us/step - loss: 0.0164 - acc: 0.8926\n",
      "Epoch 3/20\n",
      "60000/60000 [==============================] - 25s 411us/step - loss: 0.0125 - acc: 0.9195\n",
      "Epoch 4/20\n",
      "60000/60000 [==============================] - 25s 409us/step - loss: 0.0106 - acc: 0.9337\n",
      "Epoch 5/20\n",
      "60000/60000 [==============================] - 24s 408us/step - loss: 0.0093 - acc: 0.9412\n",
      "Epoch 6/20\n",
      "60000/60000 [==============================] - 24s 406us/step - loss: 0.0083 - acc: 0.9480\n",
      "Epoch 7/20\n",
      "60000/60000 [==============================] - 25s 414us/step - loss: 0.0076 - acc: 0.9527\n",
      "Epoch 8/20\n",
      "60000/60000 [==============================] - 24s 408us/step - loss: 0.0070 - acc: 0.9562\n",
      "Epoch 9/20\n",
      "60000/60000 [==============================] - 25s 411us/step - loss: 0.0065 - acc: 0.9597\n",
      "Epoch 10/20\n",
      "60000/60000 [==============================] - 25s 411us/step - loss: 0.0060 - acc: 0.9627\n",
      "Epoch 11/20\n",
      "60000/60000 [==============================] - 25s 411us/step - loss: 0.0057 - acc: 0.9647\n",
      "Epoch 12/20\n",
      "60000/60000 [==============================] - 25s 409us/step - loss: 0.0053 - acc: 0.9677\n",
      "Epoch 13/20\n",
      "60000/60000 [==============================] - 24s 408us/step - loss: 0.0050 - acc: 0.9697\n",
      "Epoch 14/20\n",
      "60000/60000 [==============================] - 24s 403us/step - loss: 0.0047 - acc: 0.9718\n",
      "Epoch 15/20\n",
      "60000/60000 [==============================] - 24s 405us/step - loss: 0.0045 - acc: 0.9730\n",
      "Epoch 16/20\n",
      "60000/60000 [==============================] - 24s 408us/step - loss: 0.0042 - acc: 0.9746\n",
      "Epoch 17/20\n",
      "60000/60000 [==============================] - 24s 404us/step - loss: 0.0040 - acc: 0.9758\n",
      "Epoch 18/20\n",
      "60000/60000 [==============================] - 24s 404us/step - loss: 0.0038 - acc: 0.9773\n",
      "Epoch 19/20\n",
      "60000/60000 [==============================] - 24s 403us/step - loss: 0.0037 - acc: 0.9783\n",
      "Epoch 20/20\n",
      "60000/60000 [==============================] - 24s 402us/step - loss: 0.0035 - acc: 0.9793\n"
     ]
    }
   ],
   "source": [
    "md3 = frame_construction(layer=[80,91,91,40,20,73,99,90,69,10],lring=0.1)\n",
    "md3 = train_model(md3)\n",
    "pred3 = prediction(md3)"
   ]
  },
  {
   "cell_type": "code",
   "execution_count": null,
   "metadata": {},
   "outputs": [],
   "source": []
  }
 ],
 "metadata": {
  "kernelspec": {
   "display_name": "Python 3",
   "language": "python",
   "name": "python3"
  },
  "language_info": {
   "codemirror_mode": {
    "name": "ipython",
    "version": 3
   },
   "file_extension": ".py",
   "mimetype": "text/x-python",
   "name": "python",
   "nbconvert_exporter": "python",
   "pygments_lexer": "ipython3",
   "version": "3.5.2"
  }
 },
 "nbformat": 4,
 "nbformat_minor": 2
}
