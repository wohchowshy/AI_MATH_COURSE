{
 "cells": [
  {
   "cell_type": "markdown",
   "metadata": {},
   "source": [
    "# 自己寫Gradient Descent"
   ]
  },
  {
   "cell_type": "markdown",
   "metadata": {},
   "source": [
    "---\n",
    "## Import"
   ]
  },
  {
   "cell_type": "code",
   "execution_count": 30,
   "metadata": {},
   "outputs": [],
   "source": [
    "%matplotlib inline\n",
    "import matplotlib.pyplot as plt\n",
    "import numpy as np\n",
    "import pandas as pd\n",
    "from ipywidgets import interact_manual  #互動套件\n",
    "import ipywidgets as widgets  #interact控制元件\n",
    "import requests\n",
    "from bs4 import BeautifulSoup as bs\n",
    "from lxml import html\n",
    "from IPython.display import display, clear_output\n",
    "from matplotlib.font_manager import FontProperties\n",
    "plt.rcParams['font.sans-serif']=['SimHei']\n",
    "plt.rcParams['axes.unicode_minus']=False"
   ]
  },
  {
   "cell_type": "markdown",
   "metadata": {},
   "source": [
    "---\n",
    "## 定義一個讓使用者自行輸入的函式"
   ]
  },
  {
   "cell_type": "code",
   "execution_count": 82,
   "metadata": {},
   "outputs": [
    {
     "name": "stdout",
     "output_type": "stream",
     "text": [
      "請選擇最高係數\n"
     ]
    },
    {
     "data": {
      "application/vnd.jupyter.widget-view+json": {
       "model_id": "d7fe708968a14b24ab9b136fdab10960",
       "version_major": 2,
       "version_minor": 0
      },
      "text/plain": [
       "interactive(children=(IntSlider(value=5, description='最高係數', max=10), FloatText(value=0.1, description='learni…"
      ]
     },
     "metadata": {},
     "output_type": "display_data"
    }
   ],
   "source": [
    "def process_func(b,lr,ite):\n",
    "    # 開[-2,2]的linspace\n",
    "    x = np.linspace(-2,2,100)\n",
    "    y = np.sum([v*np.power(x,int(k)) for k,v in b.items()],axis=0)\n",
    "    plt.figure(figsize=(16,10))\n",
    "    plt.plot(x,y)\n",
    "    # 隨機起始點\n",
    "    rd = np.random.randint(0,101)\n",
    "    # 存GD的過程\n",
    "    gd = []\n",
    "    gd.append([x[rd],y[rd]])\n",
    "    # 先做Gradient\n",
    "    g = {}\n",
    "    for k,v in b.items():\n",
    "        if(int(k)!=0):\n",
    "            g[int(k)-1] = int(k)*v\n",
    "    # 做ite次gradient descent\n",
    "    for i in range(ite):\n",
    "        xt = gd[-1][0] - lr*np.sum([v*np.power(gd[-1][0],int(k)) for k,v in g.items()])\n",
    "        yt = np.sum([v*np.power(xt,int(k)) for k,v in b.items()])\n",
    "        gd.append([xt,yt])\n",
    "    # 畫圖\n",
    "    plt.scatter(np.array(gd)[0,0],np.array(gd)[0,1],c='red')\n",
    "    plt.scatter(np.array(gd)[1:,0],np.array(gd)[1:,1], s=20, c='black')\n",
    "    # 畫箭頭\n",
    "    for i in range(ite):\n",
    "        plt.arrow(gd[i][0],gd[i][1],gd[i+1][0]-gd[i][0],gd[i+1][1]-gd[i][1],ec='pink',\n",
    "                  width=0.001,head_width=0.03,length_includes_head=True,alpha=0.5)\n",
    "    \n",
    "    \n",
    "def select_highest_coff(a,lr,ite):\n",
    "    tp = ['']*(a+2)\n",
    "    tp2 = {}\n",
    "    def set_loss_func(**b):\n",
    "        if('button' in b and b['button']==True):\n",
    "            b.pop('button')\n",
    "            process_func(b,lr,ite)\n",
    "        else:\n",
    "            print('輸入完請按\\'提交\\'按鈕')\n",
    "        \n",
    "    for i in range(a,-1,-1):\n",
    "        tp[i] = widgets.FloatText(value=5, description='x^'+str(i))\n",
    "        tp2[str(i)] = tp[i]\n",
    "    \n",
    "    button = widgets.ToggleButton(\n",
    "        value=False,\n",
    "        description='提交',\n",
    "    ) \n",
    "    tp[a+1] = button\n",
    "    tp2['button'] = tp[a+1]\n",
    "\n",
    "    ui = widgets.VBox(tp)\n",
    "    out = widgets.interactive_output(set_loss_func,tp2)\n",
    "    display(ui,out)\n",
    "\n",
    "\n",
    "print('請選擇最高係數')\n",
    "interact_manual(\n",
    "    select_highest_coff,\n",
    "    a = widgets.IntSlider(value=5, min=0, max=10, step=1, description='最高係數'),\n",
    "    lr = widgets.FloatText(value=0.1, min=0,max=5,description='learning rate'),\n",
    "    ite = widgets.IntSlider(value=10, min=3,max=10,description='做幾次GD'),\n",
    ");\n",
    "    \n",
    "    \n"
   ]
  },
  {
   "cell_type": "markdown",
   "metadata": {},
   "source": [
    "## 結果截圖:\n",
    "![互動式選單](Qpara.png)\n",
    "![結果](Qresult.png)"
   ]
  },
  {
   "cell_type": "code",
   "execution_count": null,
   "metadata": {},
   "outputs": [],
   "source": []
  }
 ],
 "metadata": {
  "kernelspec": {
   "display_name": "Python 3",
   "language": "python",
   "name": "python3"
  },
  "language_info": {
   "codemirror_mode": {
    "name": "ipython",
    "version": 3
   },
   "file_extension": ".py",
   "mimetype": "text/x-python",
   "name": "python",
   "nbconvert_exporter": "python",
   "pygments_lexer": "ipython3",
   "version": "3.5.2"
  }
 },
 "nbformat": 4,
 "nbformat_minor": 2
}
