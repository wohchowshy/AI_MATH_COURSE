{
 "cells": [
  {
   "cell_type": "markdown",
   "metadata": {},
   "source": [
    "# 自己寫Gradient Descent"
   ]
  },
  {
   "cell_type": "markdown",
   "metadata": {},
   "source": [
    "---\n",
    "## Import"
   ]
  },
  {
   "cell_type": "code",
   "execution_count": 2,
   "metadata": {},
   "outputs": [],
   "source": [
    "%matplotlib inline\n",
    "import matplotlib.pyplot as plt\n",
    "import numpy as np\n",
    "import pandas as pd\n",
    "from ipywidgets import interact_manual  #互動套件\n",
    "import ipywidgets as widgets  #interact控制元件\n",
    "import requests\n",
    "from bs4 import BeautifulSoup as bs\n",
    "from lxml import html\n",
    "from IPython.display import display, clear_output\n",
    "from matplotlib.font_manager import FontProperties\n",
    "plt.rcParams['font.sans-serif']=['SimHei']\n",
    "plt.rcParams['axes.unicode_minus']=False"
   ]
  },
  {
   "cell_type": "markdown",
   "metadata": {},
   "source": [
    "---\n",
    "## 定義一個讓使用者自行輸入的函式"
   ]
  },
  {
   "cell_type": "code",
   "execution_count": 3,
   "metadata": {},
   "outputs": [
    {
     "name": "stdout",
     "output_type": "stream",
     "text": [
      "請選擇最高係數\n"
     ]
    },
    {
     "data": {
      "application/vnd.jupyter.widget-view+json": {
       "model_id": "f72eb283ea0f42ab8b5b8e2d9c55c45c",
       "version_major": 2,
       "version_minor": 0
      },
      "text/plain": [
       "interactive(children=(IntSlider(value=5, description='最高係數', max=10), FloatText(value=0.1, description='learni…"
      ]
     },
     "metadata": {},
     "output_type": "display_data"
    }
   ],
   "source": [
    "def process_func(b,lr,ite):\n",
    "    # 開[-2,2]的linspace\n",
    "    x = np.linspace(-2,2,100)\n",
    "    y = np.sum([v*np.power(x,int(k)) for k,v in b.items()],axis=0)\n",
    "    plt.figure(figsize=(16,10))\n",
    "    plt.plot(x,y)\n",
    "    # 隨機起始點\n",
    "    rd = np.random.randint(0,101)\n",
    "    # 存GD的過程\n",
    "    gd = []\n",
    "    gd.append([x[rd],y[rd]])\n",
    "    # 先做Gradient\n",
    "    g = {}\n",
    "    for k,v in b.items():\n",
    "        if(int(k)!=0):\n",
    "            g[int(k)-1] = int(k)*v\n",
    "    # 做ite次gradient descent\n",
    "    for i in range(ite):\n",
    "        xt = gd[-1][0] - lr*np.sum([v*np.power(gd[-1][0],int(k)) for k,v in g.items()])\n",
    "        yt = np.sum([v*np.power(xt,int(k)) for k,v in b.items()])\n",
    "        gd.append([xt,yt])\n",
    "    # 畫圖\n",
    "    plt.scatter(np.array(gd)[0,0],np.array(gd)[0,1],c='red')\n",
    "    plt.scatter(np.array(gd)[1:,0],np.array(gd)[1:,1], s=20, c='black')\n",
    "    # 畫箭頭\n",
    "    for i in range(ite):\n",
    "        plt.arrow(gd[i][0],gd[i][1],gd[i+1][0]-gd[i][0],gd[i+1][1]-gd[i][1],ec='pink',\n",
    "                  width=0.001,head_width=0.03,length_includes_head=True,alpha=0.5)\n",
    "    \n",
    "    \n",
    "def select_highest_coff(a,lr,ite):\n",
    "    tp = ['']*(a+2)\n",
    "    tp2 = {}\n",
    "    def set_loss_func(**b):\n",
    "        if('button' in b and b['button']==True):\n",
    "            b.pop('button')\n",
    "            process_func(b,lr,ite)\n",
    "        else:\n",
    "            print('輸入完請按\\'提交\\'按鈕')\n",
    "        \n",
    "    for i in range(a,-1,-1):\n",
    "        tp[i] = widgets.FloatText(value=5, description='x^'+str(i))\n",
    "        tp2[str(i)] = tp[i]\n",
    "    \n",
    "    button = widgets.ToggleButton(\n",
    "        value=False,\n",
    "        description='提交',\n",
    "    ) \n",
    "    tp[a+1] = button\n",
    "    tp2['button'] = tp[a+1]\n",
    "\n",
    "    ui = widgets.VBox(tp)\n",
    "    out = widgets.interactive_output(set_loss_func,tp2)\n",
    "    display(ui,out)\n",
    "\n",
    "\n",
    "print('請選擇最高係數')\n",
    "interact_manual(\n",
    "    select_highest_coff,\n",
    "    a = widgets.IntSlider(value=5, min=0, max=10, step=1, description='最高係數'),\n",
    "    lr = widgets.FloatText(value=0.1, min=0,max=5,description='learning rate'),\n",
    "    ite = widgets.IntSlider(value=10, min=3,max=10,description='做幾次GD'),\n",
    ");\n",
    "    \n",
    "    \n"
   ]
  },
  {
   "cell_type": "markdown",
   "metadata": {},
   "source": [
    "---\n",
    "## 結果截圖:\n",
    "![互動式選單](Q/Qpara.png)\n",
    "![結果](Q/Qresult.png)"
   ]
  },
  {
   "cell_type": "code",
   "execution_count": null,
   "metadata": {},
   "outputs": [],
   "source": []
  }
 ],
 "metadata": {
  "kernelspec": {
   "display_name": "Python 3",
   "language": "python",
   "name": "python3"
  },
  "language_info": {
   "codemirror_mode": {
    "name": "ipython",
    "version": 3
   },
   "file_extension": ".py",
   "mimetype": "text/x-python",
   "name": "python",
   "nbconvert_exporter": "python",
   "pygments_lexer": "ipython3",
   "version": "3.6.7"
  },
  "widgets": {
   "application/vnd.jupyter.widget-state+json": {
    "state": {
     "01659302dcaf4bacae2969f386253374": {
      "model_module": "@jupyter-widgets/controls",
      "model_module_version": "1.4.0",
      "model_name": "FloatTextModel",
      "state": {
       "description": "x^0",
       "layout": "IPY_MODEL_18456d9b60d946ba9331ded153cd0450",
       "step": null,
       "style": "IPY_MODEL_dd393bf25dc4453abfab5388352e7ec1",
       "value": 0.5
      }
     },
     "07b1a280ba924270abc824b6329d7853": {
      "model_module": "@jupyter-widgets/controls",
      "model_module_version": "1.4.0",
      "model_name": "SliderStyleModel",
      "state": {
       "description_width": ""
      }
     },
     "0c28018e38ea43e48e066477296b1a43": {
      "model_module": "@jupyter-widgets/controls",
      "model_module_version": "1.4.0",
      "model_name": "FloatTextModel",
      "state": {
       "description": "x^4",
       "layout": "IPY_MODEL_a30795de5b6e4ed79f78e4c0ec33e91a",
       "step": null,
       "style": "IPY_MODEL_a6b72ecd66cb44689c6aae4d56cc906d",
       "value": 0.14
      }
     },
     "122c9d27a4dc46ddb6ab1682368aa75d": {
      "model_module": "@jupyter-widgets/controls",
      "model_module_version": "1.4.0",
      "model_name": "IntSliderModel",
      "state": {
       "description": "最高係數",
       "layout": "IPY_MODEL_558f3894184944638984d95e61ef47bb",
       "max": 10,
       "style": "IPY_MODEL_21a0498977ec42d0abccb179d3d05355",
       "value": 5
      }
     },
     "18456d9b60d946ba9331ded153cd0450": {
      "model_module": "@jupyter-widgets/base",
      "model_module_version": "1.1.0",
      "model_name": "LayoutModel",
      "state": {}
     },
     "21a0498977ec42d0abccb179d3d05355": {
      "model_module": "@jupyter-widgets/controls",
      "model_module_version": "1.4.0",
      "model_name": "SliderStyleModel",
      "state": {
       "description_width": ""
      }
     },
     "24881e84d4d94cf49078723356adad7e": {
      "model_module": "@jupyter-widgets/controls",
      "model_module_version": "1.4.0",
      "model_name": "FloatTextModel",
      "state": {
       "description": "x^3",
       "layout": "IPY_MODEL_d6433f092c004956b5b691b8a7dce985",
       "step": null,
       "style": "IPY_MODEL_a6162c844b0a49c3a734d504022bdcbb",
       "value": 0.75
      }
     },
     "2832c6f17c904ed3a160206e1e3d8a27": {
      "model_module": "@jupyter-widgets/controls",
      "model_module_version": "1.4.0",
      "model_name": "DescriptionStyleModel",
      "state": {
       "description_width": ""
      }
     },
     "293e47f641cc4ac6a28a1041a3152e87": {
      "model_module": "@jupyter-widgets/base",
      "model_module_version": "1.1.0",
      "model_name": "LayoutModel",
      "state": {}
     },
     "2d89104333e0413faf989a9624df83fa": {
      "model_module": "@jupyter-widgets/output",
      "model_module_version": "1.0.0",
      "model_name": "OutputModel",
      "state": {
       "layout": "IPY_MODEL_c6d905775c96490caa023e95d71be2dd",
       "outputs": [
        {
         "data": {
          "image/png": "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\n",
          "text/plain": "<Figure size 1152x720 with 1 Axes>"
         },
         "metadata": {
          "needs_background": "light"
         },
         "output_type": "display_data"
        }
       ]
      }
     },
     "423451fd8df94ec9b17d71b6ea310353": {
      "model_module": "@jupyter-widgets/base",
      "model_module_version": "1.1.0",
      "model_name": "LayoutModel",
      "state": {}
     },
     "4580717694c04cfb8c862913b218b0e3": {
      "model_module": "@jupyter-widgets/controls",
      "model_module_version": "1.4.0",
      "model_name": "FloatTextModel",
      "state": {
       "description": "x^1",
       "layout": "IPY_MODEL_7cec755a4928432dacbf7e26323aff42",
       "step": null,
       "style": "IPY_MODEL_5b3961d50941467dbb6c1c867cdb1348",
       "value": -0.7
      }
     },
     "49072d8a2fc444589d1750ef5a893064": {
      "model_module": "@jupyter-widgets/controls",
      "model_module_version": "1.4.0",
      "model_name": "FloatTextModel",
      "state": {
       "description": "x^2",
       "layout": "IPY_MODEL_423451fd8df94ec9b17d71b6ea310353",
       "step": null,
       "style": "IPY_MODEL_ccb8f59337874378aa55f7b5e828e308",
       "value": -0.4
      }
     },
     "558f3894184944638984d95e61ef47bb": {
      "model_module": "@jupyter-widgets/base",
      "model_module_version": "1.1.0",
      "model_name": "LayoutModel",
      "state": {}
     },
     "577ead4809be461a985fd4d0304c4d1a": {
      "model_module": "@jupyter-widgets/controls",
      "model_module_version": "1.4.0",
      "model_name": "VBoxModel",
      "state": {
       "children": [
        "IPY_MODEL_01659302dcaf4bacae2969f386253374",
        "IPY_MODEL_4580717694c04cfb8c862913b218b0e3",
        "IPY_MODEL_49072d8a2fc444589d1750ef5a893064",
        "IPY_MODEL_24881e84d4d94cf49078723356adad7e",
        "IPY_MODEL_0c28018e38ea43e48e066477296b1a43",
        "IPY_MODEL_c591bbdd4ee14676b97bd72034d1f60e",
        "IPY_MODEL_9e11e41578d04efe9d0ff0296d1df2a3"
       ],
       "layout": "IPY_MODEL_cd725a86bf394b6bbe761de448115b53"
      }
     },
     "5b3961d50941467dbb6c1c867cdb1348": {
      "model_module": "@jupyter-widgets/controls",
      "model_module_version": "1.4.0",
      "model_name": "DescriptionStyleModel",
      "state": {
       "description_width": ""
      }
     },
     "7cec755a4928432dacbf7e26323aff42": {
      "model_module": "@jupyter-widgets/base",
      "model_module_version": "1.1.0",
      "model_name": "LayoutModel",
      "state": {}
     },
     "81d32aac4af24ac28e2c5950e6a0ec78": {
      "model_module": "@jupyter-widgets/controls",
      "model_module_version": "1.4.0",
      "model_name": "ButtonModel",
      "state": {
       "description": "Run Interact",
       "layout": "IPY_MODEL_9ccf3d00fe0942308e64a82f6c577285",
       "style": "IPY_MODEL_a272305aac514b709907e85e3877ba49"
      }
     },
     "8589345aba9745dfb311261a4f5262ac": {
      "model_module": "@jupyter-widgets/controls",
      "model_module_version": "1.4.0",
      "model_name": "FloatTextModel",
      "state": {
       "description": "learning rate",
       "layout": "IPY_MODEL_293e47f641cc4ac6a28a1041a3152e87",
       "step": null,
       "style": "IPY_MODEL_fa0f2de2191d42eda7e648dfa795936f",
       "value": 0.1
      }
     },
     "96fe6ed140a9478d802f13cb0bb638f0": {
      "model_module": "@jupyter-widgets/controls",
      "model_module_version": "1.4.0",
      "model_name": "IntSliderModel",
      "state": {
       "description": "做幾次GD",
       "layout": "IPY_MODEL_e78b7f2079164ec48296c965e7b70d3b",
       "max": 10,
       "min": 3,
       "style": "IPY_MODEL_07b1a280ba924270abc824b6329d7853",
       "value": 10
      }
     },
     "9a664633924c45deaf8561fd4a00333c": {
      "model_module": "@jupyter-widgets/base",
      "model_module_version": "1.1.0",
      "model_name": "LayoutModel",
      "state": {}
     },
     "9ccf3d00fe0942308e64a82f6c577285": {
      "model_module": "@jupyter-widgets/base",
      "model_module_version": "1.1.0",
      "model_name": "LayoutModel",
      "state": {}
     },
     "9e11e41578d04efe9d0ff0296d1df2a3": {
      "model_module": "@jupyter-widgets/controls",
      "model_module_version": "1.4.0",
      "model_name": "ToggleButtonModel",
      "state": {
       "description": "提交",
       "layout": "IPY_MODEL_9a664633924c45deaf8561fd4a00333c",
       "style": "IPY_MODEL_c634ef7d6616405cb92e55cf41414b28",
       "value": true
      }
     },
     "a272305aac514b709907e85e3877ba49": {
      "model_module": "@jupyter-widgets/controls",
      "model_module_version": "1.4.0",
      "model_name": "ButtonStyleModel",
      "state": {}
     },
     "a30795de5b6e4ed79f78e4c0ec33e91a": {
      "model_module": "@jupyter-widgets/base",
      "model_module_version": "1.1.0",
      "model_name": "LayoutModel",
      "state": {}
     },
     "a6162c844b0a49c3a734d504022bdcbb": {
      "model_module": "@jupyter-widgets/controls",
      "model_module_version": "1.4.0",
      "model_name": "DescriptionStyleModel",
      "state": {
       "description_width": ""
      }
     },
     "a6b72ecd66cb44689c6aae4d56cc906d": {
      "model_module": "@jupyter-widgets/controls",
      "model_module_version": "1.4.0",
      "model_name": "DescriptionStyleModel",
      "state": {
       "description_width": ""
      }
     },
     "ac64f28ae2e24751b03aa3a3d464f6dc": {
      "model_module": "@jupyter-widgets/output",
      "model_module_version": "1.0.0",
      "model_name": "OutputModel",
      "state": {
       "layout": "IPY_MODEL_f89252de53904ac69b831073bf8206ea",
       "outputs": [
        {
         "data": {
          "application/vnd.jupyter.widget-view+json": {
           "model_id": "577ead4809be461a985fd4d0304c4d1a",
           "version_major": 2,
           "version_minor": 0
          },
          "text/plain": "VBox(children=(FloatText(value=5.0, description='x^0'), FloatText(value=5.0, description='x^1'), FloatText(val…"
         },
         "metadata": {},
         "output_type": "display_data"
        },
        {
         "data": {
          "application/vnd.jupyter.widget-view+json": {
           "model_id": "2d89104333e0413faf989a9624df83fa",
           "version_major": 2,
           "version_minor": 0
          },
          "text/plain": "Output()"
         },
         "metadata": {},
         "output_type": "display_data"
        }
       ]
      }
     },
     "c591bbdd4ee14676b97bd72034d1f60e": {
      "model_module": "@jupyter-widgets/controls",
      "model_module_version": "1.4.0",
      "model_name": "FloatTextModel",
      "state": {
       "description": "x^5",
       "layout": "IPY_MODEL_d6ca18ae55e8484b86ecc6263d2ffe3a",
       "step": null,
       "style": "IPY_MODEL_2832c6f17c904ed3a160206e1e3d8a27",
       "value": -0.13
      }
     },
     "c634ef7d6616405cb92e55cf41414b28": {
      "model_module": "@jupyter-widgets/controls",
      "model_module_version": "1.4.0",
      "model_name": "DescriptionStyleModel",
      "state": {
       "description_width": ""
      }
     },
     "c6d905775c96490caa023e95d71be2dd": {
      "model_module": "@jupyter-widgets/base",
      "model_module_version": "1.1.0",
      "model_name": "LayoutModel",
      "state": {}
     },
     "ccb8f59337874378aa55f7b5e828e308": {
      "model_module": "@jupyter-widgets/controls",
      "model_module_version": "1.4.0",
      "model_name": "DescriptionStyleModel",
      "state": {
       "description_width": ""
      }
     },
     "cd725a86bf394b6bbe761de448115b53": {
      "model_module": "@jupyter-widgets/base",
      "model_module_version": "1.1.0",
      "model_name": "LayoutModel",
      "state": {}
     },
     "d6433f092c004956b5b691b8a7dce985": {
      "model_module": "@jupyter-widgets/base",
      "model_module_version": "1.1.0",
      "model_name": "LayoutModel",
      "state": {}
     },
     "d6ca18ae55e8484b86ecc6263d2ffe3a": {
      "model_module": "@jupyter-widgets/base",
      "model_module_version": "1.1.0",
      "model_name": "LayoutModel",
      "state": {}
     },
     "dd393bf25dc4453abfab5388352e7ec1": {
      "model_module": "@jupyter-widgets/controls",
      "model_module_version": "1.4.0",
      "model_name": "DescriptionStyleModel",
      "state": {
       "description_width": ""
      }
     },
     "df24e7159cc4415391c577669fcfd6cd": {
      "model_module": "@jupyter-widgets/base",
      "model_module_version": "1.1.0",
      "model_name": "LayoutModel",
      "state": {}
     },
     "e78b7f2079164ec48296c965e7b70d3b": {
      "model_module": "@jupyter-widgets/base",
      "model_module_version": "1.1.0",
      "model_name": "LayoutModel",
      "state": {}
     },
     "f72eb283ea0f42ab8b5b8e2d9c55c45c": {
      "model_module": "@jupyter-widgets/controls",
      "model_module_version": "1.4.0",
      "model_name": "VBoxModel",
      "state": {
       "_dom_classes": [
        "widget-interact"
       ],
       "children": [
        "IPY_MODEL_122c9d27a4dc46ddb6ab1682368aa75d",
        "IPY_MODEL_8589345aba9745dfb311261a4f5262ac",
        "IPY_MODEL_96fe6ed140a9478d802f13cb0bb638f0",
        "IPY_MODEL_81d32aac4af24ac28e2c5950e6a0ec78",
        "IPY_MODEL_ac64f28ae2e24751b03aa3a3d464f6dc"
       ],
       "layout": "IPY_MODEL_df24e7159cc4415391c577669fcfd6cd"
      }
     },
     "f89252de53904ac69b831073bf8206ea": {
      "model_module": "@jupyter-widgets/base",
      "model_module_version": "1.1.0",
      "model_name": "LayoutModel",
      "state": {}
     },
     "fa0f2de2191d42eda7e648dfa795936f": {
      "model_module": "@jupyter-widgets/controls",
      "model_module_version": "1.4.0",
      "model_name": "DescriptionStyleModel",
      "state": {
       "description_width": ""
      }
     }
    },
    "version_major": 2,
    "version_minor": 0
   }
  }
 },
 "nbformat": 4,
 "nbformat_minor": 2
}
