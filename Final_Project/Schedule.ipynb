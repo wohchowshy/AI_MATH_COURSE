{
 "cells": [
  {
   "cell_type": "markdown",
   "metadata": {},
   "source": [
    "期末專案進度 \n",
    "===\n",
    "\n",
    "組員: 吳易東\n",
    "<br><br>\n",
    "## 主題：辨識圖片人物的年齡\n",
    "<br>\n",
    "\n",
    "### 介紹\n",
    "    **主要利用CNN來訓練出一個判斷人物年齡的系統**\n",
    "\n",
    "\n",
    "### 實作方法\n",
    "    1. 建立簡單的CNN作為baseline\n",
    "    2. 調整CNN架構和input channels，用來和baseline做比較\n",
    "    3. 加入其他NN架構比較表現度\n",
    "\n",
    "    \n",
    "### 專案排程\n",
    "    5/26: 下載training所需資料\n",
    "    6/2: 建好不同models\n",
    "    6/7: 上傳期末專案\n",
    "\n",
    "\n",
    "### 目前進度\n",
    "    下載一切所需資料"
   ]
  }
 ],
 "metadata": {
  "kernelspec": {
   "display_name": "Python 3",
   "language": "python",
   "name": "python3"
  },
  "language_info": {
   "codemirror_mode": {
    "name": "ipython",
    "version": 3
   },
   "file_extension": ".py",
   "mimetype": "text/x-python",
   "name": "python",
   "nbconvert_exporter": "python",
   "pygments_lexer": "ipython3",
   "version": "3.5.2"
  }
 },
 "nbformat": 4,
 "nbformat_minor": 2
}
