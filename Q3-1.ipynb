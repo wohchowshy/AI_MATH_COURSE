{
 "cells": [
  {
   "cell_type": "markdown",
   "metadata": {},
   "source": [
    "# Q3-1 \n",
    "\n",
    "### 自由習題 2\n"
   ]
  },
  {
   "cell_type": "code",
   "execution_count": 71,
   "metadata": {},
   "outputs": [
    {
     "name": "stdout",
     "output_type": "stream",
     "text": [
      "                  記帳小幫手\n"
     ]
    },
    {
     "data": {
      "application/vnd.jupyter.widget-view+json": {
       "model_id": "ecbdf7bc5546495298d5a7e9233de1ba",
       "version_major": 2,
       "version_minor": 0
      },
      "text/plain": [
       "interactive(children=(DatePicker(value=None, description='日期'), Text(value='', description='項目', placeholder='…"
      ]
     },
     "metadata": {},
     "output_type": "display_data"
    }
   ],
   "source": [
    "import numpy as np\n",
    "import pandas as pd\n",
    "from ipywidgets import interact_manual  #互動套件\n",
    "import ipywidgets as widgets  #interact控制元件\n",
    "\n",
    "# Date 是屬於datetime.date object, 用Date.strftime('%Y(或%m,%d)')來得到年月日\n",
    "def account(Date, item, money, note):\n",
    "    # 如果輸入不完整，則不紀錄這筆帳\n",
    "    if(len(item)==0 or len(money)==0 or (Date==None)):\n",
    "        print(\"請輸入完整內容\")\n",
    "        return\n",
    "    data = [[Date, item, '$'+money, note]]  # 建list，這裡輸出依序是'日期', '品項', '金額', '備註'\n",
    "    df = pd.DataFrame(data, columns = ['日期', '項目名稱', '金額', '備註'])  # 存csv的標準格式:'DataFrame'\n",
    "    # 如果csv已經存在，則直接寫資料，不寫header\n",
    "    # 如果不存在，則把header也一起寫進csv檔\n",
    "    try:\n",
    "        with open('account.csv','r') as f:\n",
    "            True\n",
    "        df.to_csv('account.csv',mode='a', header=False, index=False)\n",
    "    except:\n",
    "        df.to_csv('account.csv',mode='w', header=True, index=False)\n",
    "    print(' '*np.random.randint(10)+'登錄成功！')\n",
    "    return\n",
    "\n",
    "\n",
    "print(' '*18+'記帳小幫手')\n",
    "interact_manual(\n",
    "    account,\n",
    "    Date=widgets.DatePicker(description='日期'),  # widget list DataPicker: 顯示可選擇日期的輸入框\n",
    "    item=widgets.Text(description='項目',disabled=False,  #widget list Text: 輸入文字\n",
    "        placeholder='ex:早餐'), \n",
    "    money=widgets.Text(description='價格',disabled=False,\n",
    "        placeholder='ex:100'), \n",
    "    note=widgets.Textarea(description='備註', disabled=False,  #widget list TextArea: 輸入多行文字\n",
    "        placeholder='ex:九折商品...'),\n",
    ");\n"
   ]
  },
  {
   "cell_type": "code",
   "execution_count": null,
   "metadata": {},
   "outputs": [],
   "source": []
  }
 ],
 "metadata": {
  "kernelspec": {
   "display_name": "Python 3",
   "language": "python",
   "name": "python3"
  },
  "language_info": {
   "codemirror_mode": {
    "name": "ipython",
    "version": 3
   },
   "file_extension": ".py",
   "mimetype": "text/x-python",
   "name": "python",
   "nbconvert_exporter": "python",
   "pygments_lexer": "ipython3",
   "version": "3.7.0"
  }
 },
 "nbformat": 4,
 "nbformat_minor": 2
}
